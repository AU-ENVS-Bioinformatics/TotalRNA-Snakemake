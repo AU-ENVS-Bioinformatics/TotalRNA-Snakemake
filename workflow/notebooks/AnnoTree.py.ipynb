{
 "cells": [
  {
   "attachments": {},
   "cell_type": "markdown",
   "metadata": {},
   "source": [
    "# AnnoTree-diamond-jupyter\n",
    "\n",
    "##### What's Diamond\n",
    "DIAMOND is a sequence aligner for protein and translated DNA searches designed for high-performance analysis of big sequence data. \n",
    "\n",
    "##### Why AnnoTree?\n",
    "The NCBI-nr database is not explicitly designed for microbiome analysis, and its increasing size makes it unwieldy and computationally expensive for this purpose. The AnnoTree protein database is only one-quarter the size of the entire NCBI-nr database and is explicitly designed for metagenomic analysis, so alignment-based pipelines should support it.\n",
    "https://journals.asm.org/doi/10.1128/msystems.01408-21\n",
    "\n",
    "##### Which input files?\n",
    "\n",
    "1. Trinity fasta file\n",
    "2. Abundance-filtered coun table\n",
    "\n",
    "##### Which preprocessing?\n",
    "We follow the same preprocessing as in CoMW. We filter by e-value, get the most significant contig, and the aggregate rows (we sum up all rows corresponding to different Trinity genes aligned to the same protein).  \n",
    "https://academic.oup.com/gigascience/article/8/8/giz096/5541629?login=true\n",
    "\n",
    "##### Which database files?\n",
    "\n",
    "We are using three different files (all of them in /Databases/AnnoTree_mRNA/)\n",
    "'annotree.dmnd' is a diamond database (a particular format obtained from a fasta file)\n",
    "'megan-mapping-annotree-June-2021.db' is an SQLite file with mappings from the name of each protein to annotations. \n",
    "'ko00001.json' is a JSON file with the BRITE hierarchy annotation  for KEGG\n",
    "\n",
    "## Analysis\n",
    "First, check dependencies. Safe to ignore. If any error, you can create a new conda enviroment with:"
   ]
  },
  {
   "cell_type": "code",
   "execution_count": 1,
   "metadata": {},
   "outputs": [
    {
     "name": "stdout",
     "output_type": "stream",
     "text": [
      "diamond version 2.1.8\n"
     ]
    },
    {
     "name": "stdout",
     "output_type": "stream",
     "text": [
      "2.1.1\n",
      "3.8.0\n",
      "3.1.3\n",
      "GNU bash, version 4.4.20(1)-release (x86_64-pc-linux-gnu)\n"
     ]
    }
   ],
   "source": [
    "%%bash\n",
    "diamond --version\n",
    "python -c \"import pandas; print(pandas.__version__)\"\n",
    "python -c \"import matplotlib; print(matplotlib.__version__)\"\n",
    "python -c \"import ete3; print(ete3.__version__)\"\n",
    "bash --version | head -n 1"
   ]
  },
  {
   "cell_type": "code",
   "execution_count": 2,
   "metadata": {},
   "outputs": [],
   "source": [
    "import os\n",
    "import sqlite3\n",
    "import pandas as pd\n",
    "import matplotlib.pyplot as plt\n",
    "from contextlib import closing\n",
    "from enum import Enum"
   ]
  },
  {
   "attachments": {},
   "cell_type": "markdown",
   "metadata": {},
   "source": [
    "### Input files (edit this chunk)\n",
    "Edit this chunk to match your input files"
   ]
  },
  {
   "cell_type": "code",
   "execution_count": 3,
   "metadata": {},
   "outputs": [],
   "source": [
    "trinity_file = snakemake.input.trinity\n",
    "count_table = snakemake.input.count_table"
   ]
  },
  {
   "cell_type": "code",
   "execution_count": 4,
   "metadata": {},
   "outputs": [],
   "source": [
    "## Sanity check: trinity and count table exit\n",
    "assert os.path.exists(trinity_file), 'Trinity file does not exist'\n",
    "assert os.path.exists(count_table), 'Count table does not exist'"
   ]
  },
  {
   "attachments": {},
   "cell_type": "markdown",
   "metadata": {},
   "source": [
    "### Output files (edit this chunk)\n",
    "Edit this chunk to match your desired output files"
   ]
  },
  {
   "cell_type": "code",
   "execution_count": 5,
   "metadata": {},
   "outputs": [],
   "source": [
    "outfile_matches = snakemake.output.diamond"
   ]
  },
  {
   "attachments": {},
   "cell_type": "markdown",
   "metadata": {},
   "source": [
    "### Database files\n",
    "Don't edit this chunk"
   ]
  },
  {
   "cell_type": "code",
   "execution_count": null,
   "metadata": {},
   "outputs": [],
   "source": [
    "annotree_db = snakemake.input.database\n",
    "mapping_db =  snakemake.input.mapping\n",
    "brite_json = snakemake.input.brite\n",
    "threads = snakemake.threads\n",
    "assert os.path.exists(f\"{annotree_db}\"), 'Annotree database does not exist'\n",
    "assert os.path.exists(mapping_db), 'Mapping database does not exist'\n",
    "assert os.path.exists(brite_json), 'Brite json file does not exist'\n",
    "assert threads > 0, 'Threads must be greater than 0'"
   ]
  },
  {
   "attachments": {},
   "cell_type": "markdown",
   "metadata": {},
   "source": [
    "##### Run Diamond\n",
    "When using Diamond, you should consider which sensitivity mode do you want to use. Default mode is designed for finding hits of >60% identity and it should take less than one hour to run. You might consider increase the sensitivity by editing the chunk below. "
   ]
  },
  {
   "cell_type": "code",
   "execution_count": 7,
   "metadata": {},
   "outputs": [
    {
     "name": "stdout",
     "output_type": "stream",
     "text": [
      "TRINITY_DN226500_c0_g1_i1\tNZ_LT934425_1_2685__RS_GCF_900232105_1\t100\t70\t0\t0\t2\t211\t540\t609\t3.90e-42\t154\n",
      "TRINITY_DN226500_c0_g1_i1\tNZ_LT934425_1_3564__RS_GCF_900232105_1\t100\t70\t0\t0\t2\t211\t540\t609\t3.90e-42\t154\n",
      "TRINITY_DN226500_c0_g1_i1\tMHZD01000094_1_2__GB_GCA_001828645_1\t82.6\t69\t12\t0\t5\t211\t542\t610\t7.84e-34\t130\n",
      "TRINITY_DN226500_c0_g1_i1\tNZ_BAFN01000001_1_2593__RS_GCF_000949635_1\t81.2\t69\t13\t0\t5\t211\t532\t600\t2.72e-33\t129\n",
      "TRINITY_DN226500_c0_g1_i1\tNZ_BAFN01000001_1_626__RS_GCF_000949635_1\t81.2\t69\t13\t0\t5\t211\t532\t600\t2.72e-33\t129\n",
      "TRINITY_DN226500_c0_g1_i1\tNZ_MJUW02000123_1_3__RS_GCF_001753675_2\t79.7\t69\t14\t0\t5\t211\t533\t601\t3.71e-33\t128\n",
      "TRINITY_DN226500_c0_g1_i1\tLAQJ01000129_1_1__GB_GCA_000987375_1\t81.2\t69\t13\t0\t5\t211\t542\t610\t6.80e-33\t127\n",
      "TRINITY_DN226500_c0_g1_i1\tSULG01000157_1_3__GB_GCA_005524015_1\t81.2\t69\t13\t0\t5\t211\t542\t610\t1.30e-32\t127\n",
      "TRINITY_DN226500_c0_g1_i1\tAYTS01000080_1_2__GB_GCA_002009475_1\t79.7\t69\t14\t0\t5\t211\t542\t610\t3.30e-32\t125\n",
      "TRINITY_DN226500_c0_g1_i1\tNZ_BAFH01000001_1_83__RS_GCF_000296795_1\t79.7\t69\t14\t0\t5\t211\t542\t610\t3.30e-32\t125\n"
     ]
    }
   ],
   "source": [
    "%%bash -s \"$annotree_db\" \"$trinity_file\" \"$outfile_matches\" \"$threads\"\n",
    "if [ ! -f $3 ]; then\n",
    "mkdir -p $(dirname $3)\n",
    "diamond blastx -p $4 -d $1 -q $2 -o $3\n",
    "fi\n",
    "head $3\n"
   ]
  },
  {
   "attachments": {},
   "cell_type": "markdown",
   "metadata": {},
   "source": [
    "##### Preprocessing Diamond matches\n",
    "We read the file into a pandas table:"
   ]
  },
  {
   "cell_type": "code",
   "execution_count": 46,
   "metadata": {},
   "outputs": [
    {
     "data": {
      "text/html": [
       "<div>\n",
       "<style scoped>\n",
       "    .dataframe tbody tr th:only-of-type {\n",
       "        vertical-align: middle;\n",
       "    }\n",
       "\n",
       "    .dataframe tbody tr th {\n",
       "        vertical-align: top;\n",
       "    }\n",
       "\n",
       "    .dataframe thead th {\n",
       "        text-align: right;\n",
       "    }\n",
       "</style>\n",
       "<table border=\"1\" class=\"dataframe\">\n",
       "  <thead>\n",
       "    <tr style=\"text-align: right;\">\n",
       "      <th></th>\n",
       "      <th>Query_id</th>\n",
       "      <th>Subject_id</th>\n",
       "      <th>%_identity</th>\n",
       "      <th>alignment_length</th>\n",
       "      <th>mismatches</th>\n",
       "      <th>gap_openings</th>\n",
       "      <th>q_start</th>\n",
       "      <th>q_end</th>\n",
       "      <th>s_start</th>\n",
       "      <th>s_end</th>\n",
       "      <th>e-value</th>\n",
       "      <th>score</th>\n",
       "    </tr>\n",
       "  </thead>\n",
       "  <tbody>\n",
       "    <tr>\n",
       "      <th>0</th>\n",
       "      <td>TRINITY_DN226500_c0_g1_i1</td>\n",
       "      <td>NZ_LT934425_1_2685__RS_GCF_900232105_1</td>\n",
       "      <td>100.0</td>\n",
       "      <td>70</td>\n",
       "      <td>0</td>\n",
       "      <td>0</td>\n",
       "      <td>2</td>\n",
       "      <td>211</td>\n",
       "      <td>540</td>\n",
       "      <td>609</td>\n",
       "      <td>3.900000e-42</td>\n",
       "      <td>154.0</td>\n",
       "    </tr>\n",
       "    <tr>\n",
       "      <th>1</th>\n",
       "      <td>TRINITY_DN226500_c0_g1_i1</td>\n",
       "      <td>NZ_LT934425_1_3564__RS_GCF_900232105_1</td>\n",
       "      <td>100.0</td>\n",
       "      <td>70</td>\n",
       "      <td>0</td>\n",
       "      <td>0</td>\n",
       "      <td>2</td>\n",
       "      <td>211</td>\n",
       "      <td>540</td>\n",
       "      <td>609</td>\n",
       "      <td>3.900000e-42</td>\n",
       "      <td>154.0</td>\n",
       "    </tr>\n",
       "    <tr>\n",
       "      <th>2</th>\n",
       "      <td>TRINITY_DN226500_c0_g1_i1</td>\n",
       "      <td>MHZD01000094_1_2__GB_GCA_001828645_1</td>\n",
       "      <td>82.6</td>\n",
       "      <td>69</td>\n",
       "      <td>12</td>\n",
       "      <td>0</td>\n",
       "      <td>5</td>\n",
       "      <td>211</td>\n",
       "      <td>542</td>\n",
       "      <td>610</td>\n",
       "      <td>7.840000e-34</td>\n",
       "      <td>130.0</td>\n",
       "    </tr>\n",
       "    <tr>\n",
       "      <th>3</th>\n",
       "      <td>TRINITY_DN226500_c0_g1_i1</td>\n",
       "      <td>NZ_BAFN01000001_1_2593__RS_GCF_000949635_1</td>\n",
       "      <td>81.2</td>\n",
       "      <td>69</td>\n",
       "      <td>13</td>\n",
       "      <td>0</td>\n",
       "      <td>5</td>\n",
       "      <td>211</td>\n",
       "      <td>532</td>\n",
       "      <td>600</td>\n",
       "      <td>2.720000e-33</td>\n",
       "      <td>129.0</td>\n",
       "    </tr>\n",
       "    <tr>\n",
       "      <th>4</th>\n",
       "      <td>TRINITY_DN226500_c0_g1_i1</td>\n",
       "      <td>NZ_BAFN01000001_1_626__RS_GCF_000949635_1</td>\n",
       "      <td>81.2</td>\n",
       "      <td>69</td>\n",
       "      <td>13</td>\n",
       "      <td>0</td>\n",
       "      <td>5</td>\n",
       "      <td>211</td>\n",
       "      <td>532</td>\n",
       "      <td>600</td>\n",
       "      <td>2.720000e-33</td>\n",
       "      <td>129.0</td>\n",
       "    </tr>\n",
       "    <tr>\n",
       "      <th>...</th>\n",
       "      <td>...</td>\n",
       "      <td>...</td>\n",
       "      <td>...</td>\n",
       "      <td>...</td>\n",
       "      <td>...</td>\n",
       "      <td>...</td>\n",
       "      <td>...</td>\n",
       "      <td>...</td>\n",
       "      <td>...</td>\n",
       "      <td>...</td>\n",
       "      <td>...</td>\n",
       "      <td>...</td>\n",
       "    </tr>\n",
       "    <tr>\n",
       "      <th>127</th>\n",
       "      <td>TRINITY_DN226455_c0_g1_i1</td>\n",
       "      <td>NZ_SMOA01000080_1_2__RS_GCF_004353985_1</td>\n",
       "      <td>69.8</td>\n",
       "      <td>96</td>\n",
       "      <td>29</td>\n",
       "      <td>0</td>\n",
       "      <td>11</td>\n",
       "      <td>298</td>\n",
       "      <td>140</td>\n",
       "      <td>235</td>\n",
       "      <td>1.100000e-34</td>\n",
       "      <td>130.0</td>\n",
       "    </tr>\n",
       "    <tr>\n",
       "      <th>128</th>\n",
       "      <td>TRINITY_DN226455_c0_g1_i1</td>\n",
       "      <td>NZ_RCZP01000033_1_28__RS_GCF_006438825_1</td>\n",
       "      <td>71.7</td>\n",
       "      <td>92</td>\n",
       "      <td>26</td>\n",
       "      <td>0</td>\n",
       "      <td>23</td>\n",
       "      <td>298</td>\n",
       "      <td>155</td>\n",
       "      <td>246</td>\n",
       "      <td>1.500000e-34</td>\n",
       "      <td>130.0</td>\n",
       "    </tr>\n",
       "    <tr>\n",
       "      <th>129</th>\n",
       "      <td>TRINITY_DN226455_c0_g1_i1</td>\n",
       "      <td>NZ_JQKB01000021_1_35__RS_GCF_000745835_1</td>\n",
       "      <td>67.7</td>\n",
       "      <td>96</td>\n",
       "      <td>31</td>\n",
       "      <td>0</td>\n",
       "      <td>11</td>\n",
       "      <td>298</td>\n",
       "      <td>144</td>\n",
       "      <td>239</td>\n",
       "      <td>1.760000e-34</td>\n",
       "      <td>130.0</td>\n",
       "    </tr>\n",
       "    <tr>\n",
       "      <th>130</th>\n",
       "      <td>TRINITY_DN226455_c0_g1_i1</td>\n",
       "      <td>NZ_KN676113_1_750__RS_GCF_000802185_1</td>\n",
       "      <td>67.7</td>\n",
       "      <td>96</td>\n",
       "      <td>31</td>\n",
       "      <td>0</td>\n",
       "      <td>11</td>\n",
       "      <td>298</td>\n",
       "      <td>144</td>\n",
       "      <td>239</td>\n",
       "      <td>1.790000e-34</td>\n",
       "      <td>130.0</td>\n",
       "    </tr>\n",
       "    <tr>\n",
       "      <th>131</th>\n",
       "      <td>TRINITY_DN226455_c0_g1_i1</td>\n",
       "      <td>LNEW01000202_1_19__GB_GCA_001464375_1</td>\n",
       "      <td>70.1</td>\n",
       "      <td>97</td>\n",
       "      <td>29</td>\n",
       "      <td>0</td>\n",
       "      <td>8</td>\n",
       "      <td>298</td>\n",
       "      <td>100</td>\n",
       "      <td>196</td>\n",
       "      <td>1.990000e-34</td>\n",
       "      <td>129.0</td>\n",
       "    </tr>\n",
       "  </tbody>\n",
       "</table>\n",
       "<p>132 rows × 12 columns</p>\n",
       "</div>"
      ],
      "text/plain": [
       "                      Query_id                                  Subject_id  \\\n",
       "0    TRINITY_DN226500_c0_g1_i1      NZ_LT934425_1_2685__RS_GCF_900232105_1   \n",
       "1    TRINITY_DN226500_c0_g1_i1      NZ_LT934425_1_3564__RS_GCF_900232105_1   \n",
       "2    TRINITY_DN226500_c0_g1_i1        MHZD01000094_1_2__GB_GCA_001828645_1   \n",
       "3    TRINITY_DN226500_c0_g1_i1  NZ_BAFN01000001_1_2593__RS_GCF_000949635_1   \n",
       "4    TRINITY_DN226500_c0_g1_i1   NZ_BAFN01000001_1_626__RS_GCF_000949635_1   \n",
       "..                         ...                                         ...   \n",
       "127  TRINITY_DN226455_c0_g1_i1     NZ_SMOA01000080_1_2__RS_GCF_004353985_1   \n",
       "128  TRINITY_DN226455_c0_g1_i1    NZ_RCZP01000033_1_28__RS_GCF_006438825_1   \n",
       "129  TRINITY_DN226455_c0_g1_i1    NZ_JQKB01000021_1_35__RS_GCF_000745835_1   \n",
       "130  TRINITY_DN226455_c0_g1_i1       NZ_KN676113_1_750__RS_GCF_000802185_1   \n",
       "131  TRINITY_DN226455_c0_g1_i1       LNEW01000202_1_19__GB_GCA_001464375_1   \n",
       "\n",
       "     %_identity  alignment_length  mismatches  gap_openings  q_start  q_end  \\\n",
       "0         100.0                70           0             0        2    211   \n",
       "1         100.0                70           0             0        2    211   \n",
       "2          82.6                69          12             0        5    211   \n",
       "3          81.2                69          13             0        5    211   \n",
       "4          81.2                69          13             0        5    211   \n",
       "..          ...               ...         ...           ...      ...    ...   \n",
       "127        69.8                96          29             0       11    298   \n",
       "128        71.7                92          26             0       23    298   \n",
       "129        67.7                96          31             0       11    298   \n",
       "130        67.7                96          31             0       11    298   \n",
       "131        70.1                97          29             0        8    298   \n",
       "\n",
       "     s_start  s_end       e-value  score  \n",
       "0        540    609  3.900000e-42  154.0  \n",
       "1        540    609  3.900000e-42  154.0  \n",
       "2        542    610  7.840000e-34  130.0  \n",
       "3        532    600  2.720000e-33  129.0  \n",
       "4        532    600  2.720000e-33  129.0  \n",
       "..       ...    ...           ...    ...  \n",
       "127      140    235  1.100000e-34  130.0  \n",
       "128      155    246  1.500000e-34  130.0  \n",
       "129      144    239  1.760000e-34  130.0  \n",
       "130      144    239  1.790000e-34  130.0  \n",
       "131      100    196  1.990000e-34  129.0  \n",
       "\n",
       "[132 rows x 12 columns]"
      ]
     },
     "execution_count": 46,
     "metadata": {},
     "output_type": "execute_result"
    }
   ],
   "source": [
    "diamond = pd.read_csv(\n",
    "    outfile_matches,delimiter='\\t',comment='#', header=None,\n",
    "    names= ['Query_id', 'Subject_id', '%_identity', 'alignment_length', \n",
    "             'mismatches','gap_openings','q_start', 'q_end',\n",
    "             's_start',\n",
    "              's_end', 'e-value', 'score'\n",
    "            ]\n",
    ")\n",
    "diamond"
   ]
  },
  {
   "attachments": {},
   "cell_type": "markdown",
   "metadata": {},
   "source": [
    "We also add the count table into a Pandas data frame:"
   ]
  },
  {
   "cell_type": "code",
   "execution_count": 47,
   "metadata": {},
   "outputs": [
    {
     "data": {
      "text/html": [
       "<div>\n",
       "<style scoped>\n",
       "    .dataframe tbody tr th:only-of-type {\n",
       "        vertical-align: middle;\n",
       "    }\n",
       "\n",
       "    .dataframe tbody tr th {\n",
       "        vertical-align: top;\n",
       "    }\n",
       "\n",
       "    .dataframe thead th {\n",
       "        text-align: right;\n",
       "    }\n",
       "</style>\n",
       "<table border=\"1\" class=\"dataframe\">\n",
       "  <thead>\n",
       "    <tr style=\"text-align: right;\">\n",
       "      <th></th>\n",
       "      <th>SampleA</th>\n",
       "      <th>SampleB</th>\n",
       "      <th>SampleC</th>\n",
       "      <th>SampleD</th>\n",
       "      <th>SampleE</th>\n",
       "    </tr>\n",
       "    <tr>\n",
       "      <th>ContigID</th>\n",
       "      <th></th>\n",
       "      <th></th>\n",
       "      <th></th>\n",
       "      <th></th>\n",
       "      <th></th>\n",
       "    </tr>\n",
       "  </thead>\n",
       "  <tbody>\n",
       "    <tr>\n",
       "      <th>TRINITY_DN226500_c0_g1_i1</th>\n",
       "      <td>0</td>\n",
       "      <td>0</td>\n",
       "      <td>2</td>\n",
       "      <td>1</td>\n",
       "      <td>0</td>\n",
       "    </tr>\n",
       "    <tr>\n",
       "      <th>TRINITY_DN226510_c0_g1_i1</th>\n",
       "      <td>1</td>\n",
       "      <td>0</td>\n",
       "      <td>0</td>\n",
       "      <td>0</td>\n",
       "      <td>5</td>\n",
       "    </tr>\n",
       "    <tr>\n",
       "      <th>TRINITY_DN226477_c0_g1_i1</th>\n",
       "      <td>0</td>\n",
       "      <td>0</td>\n",
       "      <td>0</td>\n",
       "      <td>0</td>\n",
       "      <td>0</td>\n",
       "    </tr>\n",
       "    <tr>\n",
       "      <th>TRINITY_DN226449_c0_g1_i1</th>\n",
       "      <td>0</td>\n",
       "      <td>0</td>\n",
       "      <td>2</td>\n",
       "      <td>0</td>\n",
       "      <td>0</td>\n",
       "    </tr>\n",
       "    <tr>\n",
       "      <th>TRINITY_DN226457_c0_g1_i1</th>\n",
       "      <td>3</td>\n",
       "      <td>6</td>\n",
       "      <td>0</td>\n",
       "      <td>0</td>\n",
       "      <td>0</td>\n",
       "    </tr>\n",
       "    <tr>\n",
       "      <th>TRINITY_DN226454_c0_g1_i1</th>\n",
       "      <td>0</td>\n",
       "      <td>0</td>\n",
       "      <td>0</td>\n",
       "      <td>9</td>\n",
       "      <td>0</td>\n",
       "    </tr>\n",
       "    <tr>\n",
       "      <th>TRINITY_DN226455_c0_g1_i1</th>\n",
       "      <td>0</td>\n",
       "      <td>2</td>\n",
       "      <td>0</td>\n",
       "      <td>0</td>\n",
       "      <td>2</td>\n",
       "    </tr>\n",
       "  </tbody>\n",
       "</table>\n",
       "</div>"
      ],
      "text/plain": [
       "                           SampleA  SampleB  SampleC  SampleD  SampleE\n",
       "ContigID                                                              \n",
       "TRINITY_DN226500_c0_g1_i1        0        0        2        1        0\n",
       "TRINITY_DN226510_c0_g1_i1        1        0        0        0        5\n",
       "TRINITY_DN226477_c0_g1_i1        0        0        0        0        0\n",
       "TRINITY_DN226449_c0_g1_i1        0        0        2        0        0\n",
       "TRINITY_DN226457_c0_g1_i1        3        6        0        0        0\n",
       "TRINITY_DN226454_c0_g1_i1        0        0        0        9        0\n",
       "TRINITY_DN226455_c0_g1_i1        0        2        0        0        2"
      ]
     },
     "execution_count": 47,
     "metadata": {},
     "output_type": "execute_result"
    }
   ],
   "source": [
    "counts = pd.read_csv(\n",
    "    count_table, sep = \"\\t\", comment='#'\n",
    ").set_index('ContigID')\n",
    "counts"
   ]
  },
  {
   "attachments": {},
   "cell_type": "markdown",
   "metadata": {},
   "source": [
    "##### Most significant hit per contig\n",
    "First, we are going to drop unsignificant hits by E-value. We are setting a 0.0001 threshold.\n"
   ]
  },
  {
   "cell_type": "code",
   "execution_count": 48,
   "metadata": {},
   "outputs": [
    {
     "data": {
      "text/plain": [
       "Text(0.5, 1.0, 'E-value distribution before filtering')"
      ]
     },
     "execution_count": 48,
     "metadata": {},
     "output_type": "execute_result"
    },
    {
     "data": {
      "image/png": "[encoded data removed]",
      "text/plain": [
       "<Figure size 640x480 with 1 Axes>"
      ]
     },
     "metadata": {},
     "output_type": "display_data"
    }
   ],
   "source": [
    "diamond.hist(\"e-value\")\n",
    "plt.title(\"E-value distribution before filtering\")"
   ]
  },
  {
   "cell_type": "code",
   "execution_count": 49,
   "metadata": {},
   "outputs": [
    {
     "data": {
      "text/plain": [
       "Text(0.5, 1.0, 'E-value distribution after filtering (with threshold 0.0001)')"
      ]
     },
     "execution_count": 49,
     "metadata": {},
     "output_type": "execute_result"
    },
    {
     "data": {
      "image/png": "[encoded data removed]",
      "text/plain": [
       "<Figure size 640x480 with 1 Axes>"
      ]
     },
     "metadata": {},
     "output_type": "display_data"
    }
   ],
   "source": [
    "evalue_threshold = 0.0001\n",
    "diamond = diamond.loc[diamond['e-value'] < evalue_threshold] \n",
    "diamond.hist(\"e-value\")\n",
    "plt.title(f\"E-value distribution after filtering (with threshold {evalue_threshold})\")\n"
   ]
  },
  {
   "attachments": {},
   "cell_type": "markdown",
   "metadata": {},
   "source": [
    "Now, we will sort rows per e-value and score and get the most significant hit per each ContigId."
   ]
  },
  {
   "cell_type": "code",
   "execution_count": 50,
   "metadata": {},
   "outputs": [
    {
     "data": {
      "text/plain": [
       "Text(0.5, 1.0, 'Number of hits per contig before preprocessing')"
      ]
     },
     "execution_count": 50,
     "metadata": {},
     "output_type": "execute_result"
    },
    {
     "data": {
      "image/png": "[encoded data removed]",
      "text/plain": [
       "<Figure size 640x480 with 1 Axes>"
      ]
     },
     "metadata": {},
     "output_type": "display_data"
    }
   ],
   "source": [
    "diamond.pivot_table(columns=['Query_id'], aggfunc='size').hist(bins = 25)\n",
    "plt.title(\"Number of hits per contig before preprocessing\")\n"
   ]
  },
  {
   "cell_type": "code",
   "execution_count": 51,
   "metadata": {},
   "outputs": [
    {
     "name": "stdout",
     "output_type": "stream",
     "text": [
      "Number of rows. Before: 1560. After: 66\n"
     ]
    },
    {
     "data": {
      "text/plain": [
       "Text(0.5, 1.0, 'Number of hits per contig after preprocessing')"
      ]
     },
     "execution_count": 51,
     "metadata": {},
     "output_type": "execute_result"
    },
    {
     "data": {
      "image/png": "[encoded data removed]",
      "text/plain": [
       "<Figure size 640x480 with 1 Axes>"
      ]
     },
     "metadata": {},
     "output_type": "display_data"
    }
   ],
   "source": [
    "before = diamond.size\n",
    "diamond = diamond.sort_values(\n",
    "        by=['e-value', 'score'], ascending=[True, False]\n",
    "        ).drop_duplicates(\n",
    "    'Query_id', keep='first'\n",
    ").set_index('Query_id')\n",
    "after = diamond.size\n",
    "\n",
    "print(f\"Number of rows. Before: {before}. After: {after}\")\n",
    "\n",
    "diamond.pivot_table(columns=['Query_id'], aggfunc='size').hist(bins = 25)\n",
    "plt.title(\"Number of hits per contig after preprocessing\")"
   ]
  },
  {
   "attachments": {},
   "cell_type": "markdown",
   "metadata": {},
   "source": [
    "#####  Inspect % identity and aligment length"
   ]
  },
  {
   "cell_type": "code",
   "execution_count": 52,
   "metadata": {},
   "outputs": [
    {
     "data": {
      "text/plain": [
       "Text(0.5, 1.0, 'Alignment length distribution after preprocessing')"
      ]
     },
     "execution_count": 52,
     "metadata": {},
     "output_type": "execute_result"
    },
    {
     "data": {
      "image/png": "[encoded data removed]",
      "text/plain": [
       "<Figure size 640x480 with 1 Axes>"
      ]
     },
     "metadata": {},
     "output_type": "display_data"
    }
   ],
   "source": [
    "diamond.hist(\"alignment_length\")\n",
    "plt.title(\"Alignment length distribution after preprocessing\")\n"
   ]
  },
  {
   "cell_type": "code",
   "execution_count": 53,
   "metadata": {},
   "outputs": [
    {
     "data": {
      "text/plain": [
       "Text(0, 0.5, 'Mistmatches')"
      ]
     },
     "execution_count": 53,
     "metadata": {},
     "output_type": "execute_result"
    },
    {
     "data": {
      "image/png": "[encoded data removed]",
      "text/plain": [
       "<Figure size 640x480 with 1 Axes>"
      ]
     },
     "metadata": {},
     "output_type": "display_data"
    }
   ],
   "source": [
    "plt.scatter(diamond.alignment_length,diamond.mismatches,alpha=0.6)\n",
    "plt.title('Mistmatches distribution after preprocessingh')\n",
    "plt.xlabel('Alignment length')\n",
    "plt.ylabel('Mistmatches')"
   ]
  },
  {
   "cell_type": "code",
   "execution_count": 54,
   "metadata": {},
   "outputs": [
    {
     "data": {
      "text/plain": [
       "Text(0.5, 1.0, 'Percentage of identity distribution after preprocessing')"
      ]
     },
     "execution_count": 54,
     "metadata": {},
     "output_type": "execute_result"
    },
    {
     "data": {
      "image/png": "[encoded data removed]",
      "text/plain": [
       "<Figure size 640x480 with 1 Axes>"
      ]
     },
     "metadata": {},
     "output_type": "display_data"
    }
   ],
   "source": [
    "diamond.hist(\"%_identity\", bins = 20)\n",
    "plt.title(\"Percentage of identity distribution after preprocessing\")\n"
   ]
  },
  {
   "cell_type": "markdown",
   "metadata": {},
   "source": [
    "You may want to filter by % identity (for example, keep everything above 50%). "
   ]
  },
  {
   "attachments": {},
   "cell_type": "markdown",
   "metadata": {},
   "source": [
    "##### Link information form diamond matches and count table\n",
    "First, we are going to drop all columns except for ContigsID and orthologous genes header"
   ]
  },
  {
   "cell_type": "code",
   "execution_count": 55,
   "metadata": {},
   "outputs": [
    {
     "data": {
      "text/html": [
       "<div>\n",
       "<style scoped>\n",
       "    .dataframe tbody tr th:only-of-type {\n",
       "        vertical-align: middle;\n",
       "    }\n",
       "\n",
       "    .dataframe tbody tr th {\n",
       "        vertical-align: top;\n",
       "    }\n",
       "\n",
       "    .dataframe thead th {\n",
       "        text-align: right;\n",
       "    }\n",
       "</style>\n",
       "<table border=\"1\" class=\"dataframe\">\n",
       "  <thead>\n",
       "    <tr style=\"text-align: right;\">\n",
       "      <th></th>\n",
       "      <th>Subject_id</th>\n",
       "    </tr>\n",
       "    <tr>\n",
       "      <th>Query_id</th>\n",
       "      <th></th>\n",
       "    </tr>\n",
       "  </thead>\n",
       "  <tbody>\n",
       "    <tr>\n",
       "      <th>TRINITY_DN226477_c0_g1_i1</th>\n",
       "      <td>NZ_CP027579_1_4510__RS_GCF_003018335_1</td>\n",
       "    </tr>\n",
       "    <tr>\n",
       "      <th>TRINITY_DN226455_c0_g1_i1</th>\n",
       "      <td>MKWE01000003_1_73__GB_GCA_001899585_1</td>\n",
       "    </tr>\n",
       "    <tr>\n",
       "      <th>TRINITY_DN226500_c0_g1_i1</th>\n",
       "      <td>NZ_LT934425_1_2685__RS_GCF_900232105_1</td>\n",
       "    </tr>\n",
       "    <tr>\n",
       "      <th>TRINITY_DN226457_c0_g1_i1</th>\n",
       "      <td>NZZG01000135_1_4__GB_GCA_002698575_1</td>\n",
       "    </tr>\n",
       "    <tr>\n",
       "      <th>TRINITY_DN226454_c0_g1_i1</th>\n",
       "      <td>NZ_SDKM01000083_1_4__RS_GCF_004519545_1</td>\n",
       "    </tr>\n",
       "    <tr>\n",
       "      <th>TRINITY_DN226510_c0_g1_i1</th>\n",
       "      <td>VBIU01000006_1_34__GB_GCA_005880945_1</td>\n",
       "    </tr>\n",
       "  </tbody>\n",
       "</table>\n",
       "</div>"
      ],
      "text/plain": [
       "                                                        Subject_id\n",
       "Query_id                                                          \n",
       "TRINITY_DN226477_c0_g1_i1   NZ_CP027579_1_4510__RS_GCF_003018335_1\n",
       "TRINITY_DN226455_c0_g1_i1    MKWE01000003_1_73__GB_GCA_001899585_1\n",
       "TRINITY_DN226500_c0_g1_i1   NZ_LT934425_1_2685__RS_GCF_900232105_1\n",
       "TRINITY_DN226457_c0_g1_i1     NZZG01000135_1_4__GB_GCA_002698575_1\n",
       "TRINITY_DN226454_c0_g1_i1  NZ_SDKM01000083_1_4__RS_GCF_004519545_1\n",
       "TRINITY_DN226510_c0_g1_i1    VBIU01000006_1_34__GB_GCA_005880945_1"
      ]
     },
     "execution_count": 55,
     "metadata": {},
     "output_type": "execute_result"
    }
   ],
   "source": [
    "map_table = diamond[[\"Subject_id\"]]\n",
    "map_table"
   ]
  },
  {
   "attachments": {},
   "cell_type": "markdown",
   "metadata": {},
   "source": [
    "Now, we will merge both files by their column in common (ContigID and Subject id)."
   ]
  },
  {
   "cell_type": "code",
   "execution_count": 56,
   "metadata": {},
   "outputs": [
    {
     "data": {
      "text/html": [
       "<div>\n",
       "<style scoped>\n",
       "    .dataframe tbody tr th:only-of-type {\n",
       "        vertical-align: middle;\n",
       "    }\n",
       "\n",
       "    .dataframe tbody tr th {\n",
       "        vertical-align: top;\n",
       "    }\n",
       "\n",
       "    .dataframe thead th {\n",
       "        text-align: right;\n",
       "    }\n",
       "</style>\n",
       "<table border=\"1\" class=\"dataframe\">\n",
       "  <thead>\n",
       "    <tr style=\"text-align: right;\">\n",
       "      <th></th>\n",
       "      <th>Subject_id</th>\n",
       "      <th>SampleA</th>\n",
       "      <th>SampleB</th>\n",
       "      <th>SampleC</th>\n",
       "      <th>SampleD</th>\n",
       "      <th>SampleE</th>\n",
       "    </tr>\n",
       "  </thead>\n",
       "  <tbody>\n",
       "    <tr>\n",
       "      <th>0</th>\n",
       "      <td>NZ_CP027579_1_4510__RS_GCF_003018335_1</td>\n",
       "      <td>0</td>\n",
       "      <td>0</td>\n",
       "      <td>0</td>\n",
       "      <td>0</td>\n",
       "      <td>0</td>\n",
       "    </tr>\n",
       "    <tr>\n",
       "      <th>1</th>\n",
       "      <td>MKWE01000003_1_73__GB_GCA_001899585_1</td>\n",
       "      <td>0</td>\n",
       "      <td>2</td>\n",
       "      <td>0</td>\n",
       "      <td>0</td>\n",
       "      <td>2</td>\n",
       "    </tr>\n",
       "    <tr>\n",
       "      <th>2</th>\n",
       "      <td>NZ_LT934425_1_2685__RS_GCF_900232105_1</td>\n",
       "      <td>0</td>\n",
       "      <td>0</td>\n",
       "      <td>2</td>\n",
       "      <td>1</td>\n",
       "      <td>0</td>\n",
       "    </tr>\n",
       "    <tr>\n",
       "      <th>3</th>\n",
       "      <td>NZZG01000135_1_4__GB_GCA_002698575_1</td>\n",
       "      <td>3</td>\n",
       "      <td>6</td>\n",
       "      <td>0</td>\n",
       "      <td>0</td>\n",
       "      <td>0</td>\n",
       "    </tr>\n",
       "    <tr>\n",
       "      <th>4</th>\n",
       "      <td>NZ_SDKM01000083_1_4__RS_GCF_004519545_1</td>\n",
       "      <td>0</td>\n",
       "      <td>0</td>\n",
       "      <td>0</td>\n",
       "      <td>9</td>\n",
       "      <td>0</td>\n",
       "    </tr>\n",
       "    <tr>\n",
       "      <th>5</th>\n",
       "      <td>VBIU01000006_1_34__GB_GCA_005880945_1</td>\n",
       "      <td>1</td>\n",
       "      <td>0</td>\n",
       "      <td>0</td>\n",
       "      <td>0</td>\n",
       "      <td>5</td>\n",
       "    </tr>\n",
       "  </tbody>\n",
       "</table>\n",
       "</div>"
      ],
      "text/plain": [
       "                                Subject_id  SampleA  SampleB  SampleC  \\\n",
       "0   NZ_CP027579_1_4510__RS_GCF_003018335_1        0        0        0   \n",
       "1    MKWE01000003_1_73__GB_GCA_001899585_1        0        2        0   \n",
       "2   NZ_LT934425_1_2685__RS_GCF_900232105_1        0        0        2   \n",
       "3     NZZG01000135_1_4__GB_GCA_002698575_1        3        6        0   \n",
       "4  NZ_SDKM01000083_1_4__RS_GCF_004519545_1        0        0        0   \n",
       "5    VBIU01000006_1_34__GB_GCA_005880945_1        1        0        0   \n",
       "\n",
       "   SampleD  SampleE  \n",
       "0        0        0  \n",
       "1        0        2  \n",
       "2        1        0  \n",
       "3        0        0  \n",
       "4        9        0  \n",
       "5        0        5  "
      ]
     },
     "execution_count": 56,
     "metadata": {},
     "output_type": "execute_result"
    }
   ],
   "source": [
    "df = pd.merge(map_table, counts, left_index=True, right_index=True).reset_index(drop=True)\n",
    "df\n"
   ]
  },
  {
   "attachments": {},
   "cell_type": "markdown",
   "metadata": {},
   "source": [
    "##### Aggregate table\n",
    "Now, we are going to aggregate the rows by grouping them by \"Subject id\" (notice the difference in rows between the previous table and the following):"
   ]
  },
  {
   "cell_type": "code",
   "execution_count": 57,
   "metadata": {},
   "outputs": [
    {
     "data": {
      "text/html": [
       "<div>\n",
       "<style scoped>\n",
       "    .dataframe tbody tr th:only-of-type {\n",
       "        vertical-align: middle;\n",
       "    }\n",
       "\n",
       "    .dataframe tbody tr th {\n",
       "        vertical-align: top;\n",
       "    }\n",
       "\n",
       "    .dataframe thead th {\n",
       "        text-align: right;\n",
       "    }\n",
       "</style>\n",
       "<table border=\"1\" class=\"dataframe\">\n",
       "  <thead>\n",
       "    <tr style=\"text-align: right;\">\n",
       "      <th></th>\n",
       "      <th>SampleA</th>\n",
       "      <th>SampleB</th>\n",
       "      <th>SampleC</th>\n",
       "      <th>SampleD</th>\n",
       "      <th>SampleE</th>\n",
       "    </tr>\n",
       "    <tr>\n",
       "      <th>Subject_id</th>\n",
       "      <th></th>\n",
       "      <th></th>\n",
       "      <th></th>\n",
       "      <th></th>\n",
       "      <th></th>\n",
       "    </tr>\n",
       "  </thead>\n",
       "  <tbody>\n",
       "    <tr>\n",
       "      <th>MKWE01000003_1_73__GB_GCA_001899585_1</th>\n",
       "      <td>0</td>\n",
       "      <td>2</td>\n",
       "      <td>0</td>\n",
       "      <td>0</td>\n",
       "      <td>2</td>\n",
       "    </tr>\n",
       "    <tr>\n",
       "      <th>NZZG01000135_1_4__GB_GCA_002698575_1</th>\n",
       "      <td>3</td>\n",
       "      <td>6</td>\n",
       "      <td>0</td>\n",
       "      <td>0</td>\n",
       "      <td>0</td>\n",
       "    </tr>\n",
       "    <tr>\n",
       "      <th>NZ_CP027579_1_4510__RS_GCF_003018335_1</th>\n",
       "      <td>0</td>\n",
       "      <td>0</td>\n",
       "      <td>0</td>\n",
       "      <td>0</td>\n",
       "      <td>0</td>\n",
       "    </tr>\n",
       "    <tr>\n",
       "      <th>NZ_LT934425_1_2685__RS_GCF_900232105_1</th>\n",
       "      <td>0</td>\n",
       "      <td>0</td>\n",
       "      <td>2</td>\n",
       "      <td>1</td>\n",
       "      <td>0</td>\n",
       "    </tr>\n",
       "    <tr>\n",
       "      <th>NZ_SDKM01000083_1_4__RS_GCF_004519545_1</th>\n",
       "      <td>0</td>\n",
       "      <td>0</td>\n",
       "      <td>0</td>\n",
       "      <td>9</td>\n",
       "      <td>0</td>\n",
       "    </tr>\n",
       "    <tr>\n",
       "      <th>VBIU01000006_1_34__GB_GCA_005880945_1</th>\n",
       "      <td>1</td>\n",
       "      <td>0</td>\n",
       "      <td>0</td>\n",
       "      <td>0</td>\n",
       "      <td>5</td>\n",
       "    </tr>\n",
       "  </tbody>\n",
       "</table>\n",
       "</div>"
      ],
      "text/plain": [
       "                                         SampleA  SampleB  SampleC  SampleD  \\\n",
       "Subject_id                                                                    \n",
       "MKWE01000003_1_73__GB_GCA_001899585_1          0        2        0        0   \n",
       "NZZG01000135_1_4__GB_GCA_002698575_1           3        6        0        0   \n",
       "NZ_CP027579_1_4510__RS_GCF_003018335_1         0        0        0        0   \n",
       "NZ_LT934425_1_2685__RS_GCF_900232105_1         0        0        2        1   \n",
       "NZ_SDKM01000083_1_4__RS_GCF_004519545_1        0        0        0        9   \n",
       "VBIU01000006_1_34__GB_GCA_005880945_1          1        0        0        0   \n",
       "\n",
       "                                         SampleE  \n",
       "Subject_id                                        \n",
       "MKWE01000003_1_73__GB_GCA_001899585_1          2  \n",
       "NZZG01000135_1_4__GB_GCA_002698575_1           0  \n",
       "NZ_CP027579_1_4510__RS_GCF_003018335_1         0  \n",
       "NZ_LT934425_1_2685__RS_GCF_900232105_1         0  \n",
       "NZ_SDKM01000083_1_4__RS_GCF_004519545_1        0  \n",
       "VBIU01000006_1_34__GB_GCA_005880945_1          5  "
      ]
     },
     "execution_count": 57,
     "metadata": {},
     "output_type": "execute_result"
    }
   ],
   "source": [
    "df = df.groupby('Subject_id').sum(numeric_only = True)\n",
    "df\n"
   ]
  },
  {
   "attachments": {},
   "cell_type": "markdown",
   "metadata": {},
   "source": [
    "##### Annotating the OTU\n",
    "Now, we have to annotate the previous table. \n",
    "\n",
    "We will use the SQLite file of AnnoTree. You can safely ignore this next chunk if you are still getting familiar with SQL. \n",
    "\n",
    "We are annotating only with the NCBI tax id and the KEGG and Interpro Identifier."
   ]
  },
  {
   "cell_type": "code",
   "execution_count": 58,
   "metadata": {},
   "outputs": [],
   "source": [
    "conn = sqlite3.connect(mapping_db)\n",
    "VALID_COLUMNS = ('Accession', 'Taxonomy', 'GTDB', 'EGGNOG', 'INTERPRO2GO','SEED', 'EC', 'KEGG', 'PFAM', 'TIGRFAM')\n",
    "MapColumn = Enum('MapColumn', [(a, a) for a in VALID_COLUMNS], type=str)\n",
    "\n",
    "def get_column(conn: sqlite3.Connection, column: MapColumn, acc: str)-> int:\n",
    "    with closing(conn.cursor()) as cursor:\n",
    "        cursor.execute(f\"SELECT {column.value} FROM mappings WHERE Accession = ?\", (acc,))\n",
    "        return cursor.fetchone()[0]\n",
    "\n",
    "def get_NCBI_taxonomy(conn: sqlite3.Connection, acc: str)-> int:\n",
    "    return get_column(conn, MapColumn.Taxonomy, acc)\n",
    "\n",
    "def get_KEGG_KO(conn: sqlite3.Connection, acc: str)-> int:\n",
    "    val = get_column(conn, MapColumn.KEGG, acc)\n",
    "    if val:\n",
    "        return f\"K{str(val).zfill(5)}\"\n",
    "    return \"\"\n",
    "\n",
    "def get_INTERPRO2GO(conn: sqlite3.Connection, acc: str) -> int:\n",
    "    val = get_column(conn, MapColumn.INTERPRO2GO, acc)\n",
    "    if val:\n",
    "        return f\"IPR{str(val).zfill(6)}\"\n",
    "    return \"\"    "
   ]
  },
  {
   "attachments": {},
   "cell_type": "markdown",
   "metadata": {},
   "source": [
    "Now we add new columns:"
   ]
  },
  {
   "cell_type": "code",
   "execution_count": 59,
   "metadata": {},
   "outputs": [
    {
     "data": {
      "text/html": [
       "<div>\n",
       "<style scoped>\n",
       "    .dataframe tbody tr th:only-of-type {\n",
       "        vertical-align: middle;\n",
       "    }\n",
       "\n",
       "    .dataframe tbody tr th {\n",
       "        vertical-align: top;\n",
       "    }\n",
       "\n",
       "    .dataframe thead th {\n",
       "        text-align: right;\n",
       "    }\n",
       "</style>\n",
       "<table border=\"1\" class=\"dataframe\">\n",
       "  <thead>\n",
       "    <tr style=\"text-align: right;\">\n",
       "      <th></th>\n",
       "      <th>SampleA</th>\n",
       "      <th>SampleB</th>\n",
       "      <th>SampleC</th>\n",
       "      <th>SampleD</th>\n",
       "      <th>SampleE</th>\n",
       "      <th>NCBI_TaxID</th>\n",
       "      <th>KEGG</th>\n",
       "      <th>INTERPRO2GO</th>\n",
       "    </tr>\n",
       "    <tr>\n",
       "      <th>Subject_id</th>\n",
       "      <th></th>\n",
       "      <th></th>\n",
       "      <th></th>\n",
       "      <th></th>\n",
       "      <th></th>\n",
       "      <th></th>\n",
       "      <th></th>\n",
       "      <th></th>\n",
       "    </tr>\n",
       "  </thead>\n",
       "  <tbody>\n",
       "    <tr>\n",
       "      <th>MKWE01000003_1_73__GB_GCA_001899585_1</th>\n",
       "      <td>0</td>\n",
       "      <td>2</td>\n",
       "      <td>0</td>\n",
       "      <td>0</td>\n",
       "      <td>2</td>\n",
       "      <td>1895826</td>\n",
       "      <td>K04088</td>\n",
       "      <td></td>\n",
       "    </tr>\n",
       "    <tr>\n",
       "      <th>NZZG01000135_1_4__GB_GCA_002698575_1</th>\n",
       "      <td>3</td>\n",
       "      <td>6</td>\n",
       "      <td>0</td>\n",
       "      <td>0</td>\n",
       "      <td>0</td>\n",
       "      <td>51662</td>\n",
       "      <td>K13955</td>\n",
       "      <td></td>\n",
       "    </tr>\n",
       "    <tr>\n",
       "      <th>NZ_CP027579_1_4510__RS_GCF_003018335_1</th>\n",
       "      <td>0</td>\n",
       "      <td>0</td>\n",
       "      <td>0</td>\n",
       "      <td>0</td>\n",
       "      <td>0</td>\n",
       "      <td>562</td>\n",
       "      <td>K01951</td>\n",
       "      <td>IPR022955</td>\n",
       "    </tr>\n",
       "    <tr>\n",
       "      <th>NZ_LT934425_1_2685__RS_GCF_900232105_1</th>\n",
       "      <td>0</td>\n",
       "      <td>0</td>\n",
       "      <td>2</td>\n",
       "      <td>1</td>\n",
       "      <td>0</td>\n",
       "      <td>174633</td>\n",
       "      <td>K20934</td>\n",
       "      <td></td>\n",
       "    </tr>\n",
       "    <tr>\n",
       "      <th>NZ_SDKM01000083_1_4__RS_GCF_004519545_1</th>\n",
       "      <td>0</td>\n",
       "      <td>0</td>\n",
       "      <td>0</td>\n",
       "      <td>9</td>\n",
       "      <td>0</td>\n",
       "      <td>2497878</td>\n",
       "      <td></td>\n",
       "      <td></td>\n",
       "    </tr>\n",
       "    <tr>\n",
       "      <th>VBIU01000006_1_34__GB_GCA_005880945_1</th>\n",
       "      <td>1</td>\n",
       "      <td>0</td>\n",
       "      <td>0</td>\n",
       "      <td>0</td>\n",
       "      <td>5</td>\n",
       "      <td>2026724</td>\n",
       "      <td>K02033</td>\n",
       "      <td></td>\n",
       "    </tr>\n",
       "  </tbody>\n",
       "</table>\n",
       "</div>"
      ],
      "text/plain": [
       "                                         SampleA  SampleB  SampleC  SampleD  \\\n",
       "Subject_id                                                                    \n",
       "MKWE01000003_1_73__GB_GCA_001899585_1          0        2        0        0   \n",
       "NZZG01000135_1_4__GB_GCA_002698575_1           3        6        0        0   \n",
       "NZ_CP027579_1_4510__RS_GCF_003018335_1         0        0        0        0   \n",
       "NZ_LT934425_1_2685__RS_GCF_900232105_1         0        0        2        1   \n",
       "NZ_SDKM01000083_1_4__RS_GCF_004519545_1        0        0        0        9   \n",
       "VBIU01000006_1_34__GB_GCA_005880945_1          1        0        0        0   \n",
       "\n",
       "                                         SampleE  NCBI_TaxID    KEGG  \\\n",
       "Subject_id                                                             \n",
       "MKWE01000003_1_73__GB_GCA_001899585_1          2     1895826  K04088   \n",
       "NZZG01000135_1_4__GB_GCA_002698575_1           0       51662  K13955   \n",
       "NZ_CP027579_1_4510__RS_GCF_003018335_1         0         562  K01951   \n",
       "NZ_LT934425_1_2685__RS_GCF_900232105_1         0      174633  K20934   \n",
       "NZ_SDKM01000083_1_4__RS_GCF_004519545_1        0     2497878           \n",
       "VBIU01000006_1_34__GB_GCA_005880945_1          5     2026724  K02033   \n",
       "\n",
       "                                        INTERPRO2GO  \n",
       "Subject_id                                           \n",
       "MKWE01000003_1_73__GB_GCA_001899585_1                \n",
       "NZZG01000135_1_4__GB_GCA_002698575_1                 \n",
       "NZ_CP027579_1_4510__RS_GCF_003018335_1    IPR022955  \n",
       "NZ_LT934425_1_2685__RS_GCF_900232105_1               \n",
       "NZ_SDKM01000083_1_4__RS_GCF_004519545_1              \n",
       "VBIU01000006_1_34__GB_GCA_005880945_1                "
      ]
     },
     "execution_count": 59,
     "metadata": {},
     "output_type": "execute_result"
    }
   ],
   "source": [
    "df['NCBI_TaxID'] = [get_NCBI_taxonomy(conn, acc) for acc in df.index]\n",
    "df['KEGG'] = [get_KEGG_KO(conn, acc) for acc in df.index]\n",
    "df['INTERPRO2GO'] = [get_INTERPRO2GO(conn, acc) for acc in df.index]\n",
    "df"
   ]
  },
  {
   "attachments": {},
   "cell_type": "markdown",
   "metadata": {},
   "source": [
    "#### Taxonomic annotation of mRNA\n",
    "\n",
    "Most AnnoTree entries have a NCBI taxonomy identifier (except those with NCBI_TaxID == 0). However, keep in mind that we are using mRNA and that, while a relatively high % identity might be enough to annotate a protein, it might not be enough asign a taxonomic identifier. For that case, using MEGAN can be a better option. \n",
    "\n",
    "We are going to be conservative, exclude entries with low % of identity and create an abundance table with the taxonomic annotation. It's interesting to know from which organisms we are \"taking\" the functional annotations. Is there any overrepresented specie?"
   ]
  },
  {
   "cell_type": "code",
   "execution_count": 60,
   "metadata": {},
   "outputs": [
    {
     "data": {
      "text/html": [
       "<div>\n",
       "<style scoped>\n",
       "    .dataframe tbody tr th:only-of-type {\n",
       "        vertical-align: middle;\n",
       "    }\n",
       "\n",
       "    .dataframe tbody tr th {\n",
       "        vertical-align: top;\n",
       "    }\n",
       "\n",
       "    .dataframe thead th {\n",
       "        text-align: right;\n",
       "    }\n",
       "</style>\n",
       "<table border=\"1\" class=\"dataframe\">\n",
       "  <thead>\n",
       "    <tr style=\"text-align: right;\">\n",
       "      <th></th>\n",
       "      <th>SampleA</th>\n",
       "      <th>SampleB</th>\n",
       "      <th>SampleC</th>\n",
       "      <th>SampleD</th>\n",
       "      <th>SampleE</th>\n",
       "      <th>NCBI_TaxID</th>\n",
       "    </tr>\n",
       "    <tr>\n",
       "      <th>Subject_id</th>\n",
       "      <th></th>\n",
       "      <th></th>\n",
       "      <th></th>\n",
       "      <th></th>\n",
       "      <th></th>\n",
       "      <th></th>\n",
       "    </tr>\n",
       "  </thead>\n",
       "  <tbody>\n",
       "    <tr>\n",
       "      <th>NZ_CP027579_1_4510__RS_GCF_003018335_1</th>\n",
       "      <td>0</td>\n",
       "      <td>0</td>\n",
       "      <td>0</td>\n",
       "      <td>0</td>\n",
       "      <td>0</td>\n",
       "      <td>562</td>\n",
       "    </tr>\n",
       "    <tr>\n",
       "      <th>NZ_LT934425_1_2685__RS_GCF_900232105_1</th>\n",
       "      <td>0</td>\n",
       "      <td>0</td>\n",
       "      <td>2</td>\n",
       "      <td>1</td>\n",
       "      <td>0</td>\n",
       "      <td>174633</td>\n",
       "    </tr>\n",
       "  </tbody>\n",
       "</table>\n",
       "</div>"
      ],
      "text/plain": [
       "                                        SampleA  SampleB  SampleC  SampleD  \\\n",
       "Subject_id                                                                   \n",
       "NZ_CP027579_1_4510__RS_GCF_003018335_1        0        0        0        0   \n",
       "NZ_LT934425_1_2685__RS_GCF_900232105_1        0        0        2        1   \n",
       "\n",
       "                                        SampleE  NCBI_TaxID  \n",
       "Subject_id                                                   \n",
       "NZ_CP027579_1_4510__RS_GCF_003018335_1        0         562  \n",
       "NZ_LT934425_1_2685__RS_GCF_900232105_1        0      174633  "
      ]
     },
     "execution_count": 60,
     "metadata": {},
     "output_type": "execute_result"
    }
   ],
   "source": [
    "taxa_tbl = diamond[diamond['%_identity'] >= 99][\"Subject_id\"]\n",
    "taxa_df = pd.merge(taxa_tbl, counts, left_index=True, right_index=True).reset_index(drop=True).groupby('Subject_id').sum(numeric_only = True)\n",
    "taxa_df['NCBI_TaxID'] = [get_NCBI_taxonomy(conn, acc) for acc in taxa_df.index]\n",
    "taxa_df"
   ]
  },
  {
   "attachments": {},
   "cell_type": "markdown",
   "metadata": {},
   "source": [
    "You can search the corresponding taxa using NCBI. For example, let's check the first five more abundant OTU:"
   ]
  },
  {
   "cell_type": "code",
   "execution_count": 61,
   "metadata": {},
   "outputs": [
    {
     "name": "stdout",
     "output_type": "stream",
     "text": [
      "https://www.ncbi.nlm.nih.gov/Taxonomy/Browser/wwwtax.cgi?id=562\n",
      "https://www.ncbi.nlm.nih.gov/Taxonomy/Browser/wwwtax.cgi?id=174633\n"
     ]
    }
   ],
   "source": [
    "for tax in taxa_df['NCBI_TaxID'].value_counts().index[:5]:\n",
    "    print(f\"https://www.ncbi.nlm.nih.gov/Taxonomy/Browser/wwwtax.cgi?id={tax}\")\n"
   ]
  },
  {
   "cell_type": "markdown",
   "metadata": {},
   "source": [
    "For example, if you suspect you have mRNA from the host, you can check the number of entries from the host. Let's check number of entries from human (it should be zero, because it's not included in AnnoTree database). "
   ]
  },
  {
   "cell_type": "code",
   "execution_count": 62,
   "metadata": {},
   "outputs": [
    {
     "data": {
      "text/plain": [
       "0"
      ]
     },
     "execution_count": 62,
     "metadata": {},
     "output_type": "execute_result"
    }
   ],
   "source": [
    "HUMAN_TAXID = 9606\n",
    "sum(taxa_df['NCBI_TaxID'] == HUMAN_TAXID)"
   ]
  },
  {
   "cell_type": "markdown",
   "metadata": {},
   "source": [
    "Finally, we are going to add different taxonomic ranks. First, we define a few functions. "
   ]
  },
  {
   "cell_type": "code",
   "execution_count": 63,
   "metadata": {},
   "outputs": [
    {
     "data": {
      "text/plain": [
       "TestResults(failed=0, attempted=5)"
      ]
     },
     "execution_count": 63,
     "metadata": {},
     "output_type": "execute_result"
    }
   ],
   "source": [
    "from ete3 import NCBITaxa\n",
    "ncbi = NCBITaxa()\n",
    "\n",
    "def get_lineage(taxid):\n",
    "    \"\"\"Get dictionary with rank as keys and name as values\n",
    "    >>> get_lineage(49992).get('species')\n",
    "    'Thymus vulgaris'\n",
    "    >>> get_lineage(2)\n",
    "    {'no rank': 'cellular organisms', 'superkingdom': 'Bacteria'}\n",
    "    >>> get_lineage(0)\n",
    "    {}\n",
    "    \"\"\"\n",
    "    if taxid <= 0:\n",
    "        return {}\n",
    "    try:\n",
    "        lineage = ncbi.get_lineage(taxid)\n",
    "        ranks = ncbi.get_rank(lineage)\n",
    "        names = ncbi.translate_to_names(lineage)\n",
    "        return {ranks[k]: elm for k, elm  in zip(lineage, names)}\n",
    "    except ValueError:\n",
    "        return {}\n",
    "def get_taxonomy_row(taxid):\n",
    "    \"\"\"\n",
    "    Parse taxa into greengenes-like format\n",
    "    >>> get_taxonomy_row(49992)\n",
    "    'k__Viridiplantae;p__Streptophyta;c__Magnoliopsida;o__Lamiales;f__Lamiaceae;g__Thymus;s__Thymus vulgaris'\n",
    "    \"\"\"\n",
    "    lineage = get_lineage(taxid)\n",
    "    ranks = {\n",
    "        'kingdom': 'k__', 'phylum':'p__', 'class': 'c__',\n",
    "        'order':'o__', 'family':'f__', 'genus':'g__', 'species':'s__'\n",
    "        }\n",
    "    for rank in ranks:\n",
    "        ranks[rank] += lineage.get(rank, '')\n",
    "    return \";\".join(ranks.values())\n",
    "\n",
    "def get_taxonomy_row2(taxid):\n",
    "    \"\"\"\n",
    "    Parse taxa separated with semicolon\n",
    "    >>> get_taxonomy_row2(49992)\n",
    "    'Viridiplantae;Streptophyta;Magnoliopsida;Lamiales;Lamiaceae;Thymus;Thymus vulgaris'\n",
    "    \"\"\"\n",
    "    lineage = get_lineage(taxid)\n",
    "    ranks = {rank:'' for rank in (\n",
    "        'kingdom', 'phylum', 'class', 'order', 'family', 'genus', 'species'\n",
    "    )}        \n",
    "    for rank in ranks:\n",
    "        ranks[rank] += lineage.get(rank, 'X')\n",
    "    return \";\".join(ranks.values())\n",
    "import doctest\n",
    "doctest.testmod()\n"
   ]
  },
  {
   "cell_type": "code",
   "execution_count": 64,
   "metadata": {},
   "outputs": [
    {
     "data": {
      "text/html": [
       "<div>\n",
       "<style scoped>\n",
       "    .dataframe tbody tr th:only-of-type {\n",
       "        vertical-align: middle;\n",
       "    }\n",
       "\n",
       "    .dataframe tbody tr th {\n",
       "        vertical-align: top;\n",
       "    }\n",
       "\n",
       "    .dataframe thead th {\n",
       "        text-align: right;\n",
       "    }\n",
       "</style>\n",
       "<table border=\"1\" class=\"dataframe\">\n",
       "  <thead>\n",
       "    <tr style=\"text-align: right;\">\n",
       "      <th></th>\n",
       "      <th>SampleA</th>\n",
       "      <th>SampleB</th>\n",
       "      <th>SampleC</th>\n",
       "      <th>SampleD</th>\n",
       "      <th>SampleE</th>\n",
       "      <th>Taxonomy</th>\n",
       "    </tr>\n",
       "    <tr>\n",
       "      <th>NCBI_TaxID</th>\n",
       "      <th></th>\n",
       "      <th></th>\n",
       "      <th></th>\n",
       "      <th></th>\n",
       "      <th></th>\n",
       "      <th></th>\n",
       "    </tr>\n",
       "  </thead>\n",
       "  <tbody>\n",
       "    <tr>\n",
       "      <th>562</th>\n",
       "      <td>0</td>\n",
       "      <td>0</td>\n",
       "      <td>0</td>\n",
       "      <td>0</td>\n",
       "      <td>0</td>\n",
       "      <td>k__;p__Pseudomonadota;c__Gammaproteobacteria;o...</td>\n",
       "    </tr>\n",
       "    <tr>\n",
       "      <th>174633</th>\n",
       "      <td>0</td>\n",
       "      <td>0</td>\n",
       "      <td>2</td>\n",
       "      <td>1</td>\n",
       "      <td>0</td>\n",
       "      <td>k__;p__Planctomycetota;c__Candidatus Brocadiia...</td>\n",
       "    </tr>\n",
       "  </tbody>\n",
       "</table>\n",
       "</div>"
      ],
      "text/plain": [
       "            SampleA  SampleB  SampleC  SampleD  SampleE  \\\n",
       "NCBI_TaxID                                                \n",
       "562               0        0        0        0        0   \n",
       "174633            0        0        2        1        0   \n",
       "\n",
       "                                                     Taxonomy  \n",
       "NCBI_TaxID                                                     \n",
       "562         k__;p__Pseudomonadota;c__Gammaproteobacteria;o...  \n",
       "174633      k__;p__Planctomycetota;c__Candidatus Brocadiia...  "
      ]
     },
     "execution_count": 64,
     "metadata": {},
     "output_type": "execute_result"
    }
   ],
   "source": [
    "#[get_taxonomy_row(taxid) for taxid in taxa_df['NCBI_TaxID'][1:5]]\n",
    "taxa_df = taxa_df.reset_index(drop=True).groupby('NCBI_TaxID').sum(numeric_only = True)\n",
    "taxa_df['Taxonomy'] = [get_taxonomy_row(int(taxid)) for taxid in taxa_df.index]\n",
    "taxa_df"
   ]
  },
  {
   "cell_type": "code",
   "execution_count": 65,
   "metadata": {},
   "outputs": [],
   "source": [
    "taxa_df.to_csv(snakemake.output.taxonomy, sep='\\t', index=False)"
   ]
  },
  {
   "attachments": {},
   "cell_type": "markdown",
   "metadata": {},
   "source": [
    "### Functional annotation\n",
    "\n",
    "Now, we are going to annotate the OTU with the KEGG and Interpro identifiers. Let's check how many non-annotated entries do we have:"
   ]
  },
  {
   "cell_type": "code",
   "execution_count": 66,
   "metadata": {},
   "outputs": [
    {
     "name": "stdout",
     "output_type": "stream",
     "text": [
      "There are 6 rows in the dataframe\n",
      "There are 1 rows with no KEGG identifier\n",
      "There are 5 rows with no INTERPRO2GO identifier\n"
     ]
    }
   ],
   "source": [
    "print(f\"There are {df.shape[0]} rows in the dataframe\")\n",
    "print(f\"There are {(df['KEGG'] == '').sum()} rows with no KEGG identifier\")\n",
    "print(f\"There are {(df['INTERPRO2GO'] == '').sum()} rows with no INTERPRO2GO identifier\")\n"
   ]
  },
  {
   "attachments": {},
   "cell_type": "markdown",
   "metadata": {},
   "source": [
    "##### Adding BRITE high-level annotations\n",
    "Now, we can use KEGG BRITE to add high-level annotations to this table. It's not pretty code, but it works:\n",
    "\n"
   ]
  },
  {
   "cell_type": "code",
   "execution_count": 67,
   "metadata": {},
   "outputs": [],
   "source": [
    "import json\n",
    "with open(brite_json, 'r') as json_file:\n",
    "    # Read the contents of the file\n",
    "    json_data = json_file.read()\n",
    "    # Parse the JSON data\n",
    "    brite = json.loads(json_data)\n",
    "def get_brite(kos, include = [], ) -> dict[str: tuple[str]]:\n",
    "    annotations = dict()\n",
    "    for LevelA in brite['children']:\n",
    "            if LevelA['name'] not in include:\n",
    "                continue\n",
    "            for LevelB in LevelA.get('children', []):\n",
    "                for LevelC in LevelB.get('children', []):\n",
    "                    for LevelD in LevelC.get('children', []):\n",
    "                        name = LevelD['name'].split()[0]\n",
    "                        if name in kos:\n",
    "                            description = LevelD['name'].split(';')[1].strip()\n",
    "                            new_annotation = (LevelA['name'], LevelB['name'], LevelC['name'], description)\n",
    "                            if name in annotations:\n",
    "                                annotations[name].append(new_annotation)\n",
    "                            annotations[name] = [new_annotation]\n",
    "    return annotations"
   ]
  },
  {
   "attachments": {},
   "cell_type": "markdown",
   "metadata": {},
   "source": [
    "Now, we get some annotations. We have to decide which annotations to use. Those are the ones available in the BRITE hierarchy:"
   ]
  },
  {
   "cell_type": "code",
   "execution_count": 68,
   "metadata": {},
   "outputs": [
    {
     "data": {
      "text/plain": [
       "['09100 Metabolism',\n",
       " '09120 Genetic Information Processing',\n",
       " '09130 Environmental Information Processing',\n",
       " '09140 Cellular Processes',\n",
       " '09150 Organismal Systems',\n",
       " '09160 Human Diseases',\n",
       " '09180 Brite Hierarchies',\n",
       " '09190 Not Included in Pathway or Brite']"
      ]
     },
     "execution_count": 68,
     "metadata": {},
     "output_type": "execute_result"
    }
   ],
   "source": [
    "[y['name'] for y in brite['children']]"
   ]
  },
  {
   "attachments": {},
   "cell_type": "markdown",
   "metadata": {},
   "source": [
    "We are going to use annotate with both Brite and Metabolism.\n",
    "\n",
    "### Adding Brite hierarchy"
   ]
  },
  {
   "cell_type": "code",
   "execution_count": 69,
   "metadata": {},
   "outputs": [],
   "source": [
    "annotations = get_brite(df.KEGG.to_list(), include = '09180 Brite Hierarchies') "
   ]
  },
  {
   "attachments": {},
   "cell_type": "markdown",
   "metadata": {},
   "source": [
    "And we add them to the DataFrame"
   ]
  },
  {
   "cell_type": "code",
   "execution_count": 70,
   "metadata": {},
   "outputs": [
    {
     "data": {
      "text/html": [
       "<div>\n",
       "<style scoped>\n",
       "    .dataframe tbody tr th:only-of-type {\n",
       "        vertical-align: middle;\n",
       "    }\n",
       "\n",
       "    .dataframe tbody tr th {\n",
       "        vertical-align: top;\n",
       "    }\n",
       "\n",
       "    .dataframe thead th {\n",
       "        text-align: right;\n",
       "    }\n",
       "</style>\n",
       "<table border=\"1\" class=\"dataframe\">\n",
       "  <thead>\n",
       "    <tr style=\"text-align: right;\">\n",
       "      <th></th>\n",
       "      <th>SampleA</th>\n",
       "      <th>SampleB</th>\n",
       "      <th>SampleC</th>\n",
       "      <th>SampleD</th>\n",
       "      <th>SampleE</th>\n",
       "      <th>NCBI_TaxID</th>\n",
       "      <th>KEGG</th>\n",
       "      <th>INTERPRO2GO</th>\n",
       "      <th>Level1</th>\n",
       "      <th>Level2</th>\n",
       "      <th>Level3</th>\n",
       "    </tr>\n",
       "    <tr>\n",
       "      <th>Subject_id</th>\n",
       "      <th></th>\n",
       "      <th></th>\n",
       "      <th></th>\n",
       "      <th></th>\n",
       "      <th></th>\n",
       "      <th></th>\n",
       "      <th></th>\n",
       "      <th></th>\n",
       "      <th></th>\n",
       "      <th></th>\n",
       "      <th></th>\n",
       "    </tr>\n",
       "  </thead>\n",
       "  <tbody>\n",
       "    <tr>\n",
       "      <th>MKWE01000003_1_73__GB_GCA_001899585_1</th>\n",
       "      <td>0</td>\n",
       "      <td>2</td>\n",
       "      <td>0</td>\n",
       "      <td>0</td>\n",
       "      <td>2</td>\n",
       "      <td>1895826</td>\n",
       "      <td>K04088</td>\n",
       "      <td></td>\n",
       "      <td>09181 Protein families: metabolism</td>\n",
       "      <td>01002 Peptidases and inhibitors [BR:ko01002]</td>\n",
       "      <td>modulator of FtsH protease HflK</td>\n",
       "    </tr>\n",
       "    <tr>\n",
       "      <th>NZZG01000135_1_4__GB_GCA_002698575_1</th>\n",
       "      <td>3</td>\n",
       "      <td>6</td>\n",
       "      <td>0</td>\n",
       "      <td>0</td>\n",
       "      <td>0</td>\n",
       "      <td>51662</td>\n",
       "      <td>K13955</td>\n",
       "      <td></td>\n",
       "      <td></td>\n",
       "      <td></td>\n",
       "      <td></td>\n",
       "    </tr>\n",
       "    <tr>\n",
       "      <th>NZ_CP027579_1_4510__RS_GCF_003018335_1</th>\n",
       "      <td>0</td>\n",
       "      <td>0</td>\n",
       "      <td>0</td>\n",
       "      <td>0</td>\n",
       "      <td>0</td>\n",
       "      <td>562</td>\n",
       "      <td>K01951</td>\n",
       "      <td>IPR022955</td>\n",
       "      <td>09181 Protein families: metabolism</td>\n",
       "      <td>01002 Peptidases and inhibitors [BR:ko01002]</td>\n",
       "      <td>GMP synthase (glutamine-hydrolysing) [EC:6.3.5.2]</td>\n",
       "    </tr>\n",
       "    <tr>\n",
       "      <th>NZ_LT934425_1_2685__RS_GCF_900232105_1</th>\n",
       "      <td>0</td>\n",
       "      <td>0</td>\n",
       "      <td>2</td>\n",
       "      <td>1</td>\n",
       "      <td>0</td>\n",
       "      <td>174633</td>\n",
       "      <td>K20934</td>\n",
       "      <td></td>\n",
       "      <td></td>\n",
       "      <td></td>\n",
       "      <td></td>\n",
       "    </tr>\n",
       "    <tr>\n",
       "      <th>NZ_SDKM01000083_1_4__RS_GCF_004519545_1</th>\n",
       "      <td>0</td>\n",
       "      <td>0</td>\n",
       "      <td>0</td>\n",
       "      <td>9</td>\n",
       "      <td>0</td>\n",
       "      <td>2497878</td>\n",
       "      <td></td>\n",
       "      <td></td>\n",
       "      <td></td>\n",
       "      <td></td>\n",
       "      <td></td>\n",
       "    </tr>\n",
       "    <tr>\n",
       "      <th>VBIU01000006_1_34__GB_GCA_005880945_1</th>\n",
       "      <td>1</td>\n",
       "      <td>0</td>\n",
       "      <td>0</td>\n",
       "      <td>0</td>\n",
       "      <td>5</td>\n",
       "      <td>2026724</td>\n",
       "      <td>K02033</td>\n",
       "      <td></td>\n",
       "      <td>09183 Protein families: signaling and cellular...</td>\n",
       "      <td>02000 Transporters [BR:ko02000]</td>\n",
       "      <td>peptide/nickel transport system permease protein</td>\n",
       "    </tr>\n",
       "  </tbody>\n",
       "</table>\n",
       "</div>"
      ],
      "text/plain": [
       "                                         SampleA  SampleB  SampleC  SampleD  \\\n",
       "Subject_id                                                                    \n",
       "MKWE01000003_1_73__GB_GCA_001899585_1          0        2        0        0   \n",
       "NZZG01000135_1_4__GB_GCA_002698575_1           3        6        0        0   \n",
       "NZ_CP027579_1_4510__RS_GCF_003018335_1         0        0        0        0   \n",
       "NZ_LT934425_1_2685__RS_GCF_900232105_1         0        0        2        1   \n",
       "NZ_SDKM01000083_1_4__RS_GCF_004519545_1        0        0        0        9   \n",
       "VBIU01000006_1_34__GB_GCA_005880945_1          1        0        0        0   \n",
       "\n",
       "                                         SampleE  NCBI_TaxID    KEGG  \\\n",
       "Subject_id                                                             \n",
       "MKWE01000003_1_73__GB_GCA_001899585_1          2     1895826  K04088   \n",
       "NZZG01000135_1_4__GB_GCA_002698575_1           0       51662  K13955   \n",
       "NZ_CP027579_1_4510__RS_GCF_003018335_1         0         562  K01951   \n",
       "NZ_LT934425_1_2685__RS_GCF_900232105_1         0      174633  K20934   \n",
       "NZ_SDKM01000083_1_4__RS_GCF_004519545_1        0     2497878           \n",
       "VBIU01000006_1_34__GB_GCA_005880945_1          5     2026724  K02033   \n",
       "\n",
       "                                        INTERPRO2GO  \\\n",
       "Subject_id                                            \n",
       "MKWE01000003_1_73__GB_GCA_001899585_1                 \n",
       "NZZG01000135_1_4__GB_GCA_002698575_1                  \n",
       "NZ_CP027579_1_4510__RS_GCF_003018335_1    IPR022955   \n",
       "NZ_LT934425_1_2685__RS_GCF_900232105_1                \n",
       "NZ_SDKM01000083_1_4__RS_GCF_004519545_1               \n",
       "VBIU01000006_1_34__GB_GCA_005880945_1                 \n",
       "\n",
       "                                                                                    Level1  \\\n",
       "Subject_id                                                                                   \n",
       "MKWE01000003_1_73__GB_GCA_001899585_1                   09181 Protein families: metabolism   \n",
       "NZZG01000135_1_4__GB_GCA_002698575_1                                                         \n",
       "NZ_CP027579_1_4510__RS_GCF_003018335_1                  09181 Protein families: metabolism   \n",
       "NZ_LT934425_1_2685__RS_GCF_900232105_1                                                       \n",
       "NZ_SDKM01000083_1_4__RS_GCF_004519545_1                                                      \n",
       "VBIU01000006_1_34__GB_GCA_005880945_1    09183 Protein families: signaling and cellular...   \n",
       "\n",
       "                                                                               Level2  \\\n",
       "Subject_id                                                                              \n",
       "MKWE01000003_1_73__GB_GCA_001899585_1    01002 Peptidases and inhibitors [BR:ko01002]   \n",
       "NZZG01000135_1_4__GB_GCA_002698575_1                                                    \n",
       "NZ_CP027579_1_4510__RS_GCF_003018335_1   01002 Peptidases and inhibitors [BR:ko01002]   \n",
       "NZ_LT934425_1_2685__RS_GCF_900232105_1                                                  \n",
       "NZ_SDKM01000083_1_4__RS_GCF_004519545_1                                                 \n",
       "VBIU01000006_1_34__GB_GCA_005880945_1                 02000 Transporters [BR:ko02000]   \n",
       "\n",
       "                                                                                    Level3  \n",
       "Subject_id                                                                                  \n",
       "MKWE01000003_1_73__GB_GCA_001899585_1                      modulator of FtsH protease HflK  \n",
       "NZZG01000135_1_4__GB_GCA_002698575_1                                                        \n",
       "NZ_CP027579_1_4510__RS_GCF_003018335_1   GMP synthase (glutamine-hydrolysing) [EC:6.3.5.2]  \n",
       "NZ_LT934425_1_2685__RS_GCF_900232105_1                                                      \n",
       "NZ_SDKM01000083_1_4__RS_GCF_004519545_1                                                     \n",
       "VBIU01000006_1_34__GB_GCA_005880945_1     peptide/nickel transport system permease protein  "
      ]
     },
     "execution_count": 70,
     "metadata": {},
     "output_type": "execute_result"
    }
   ],
   "source": [
    "df['Level1'] = [\",\".join(x[1] for x in annotations[ko]) if ko in annotations else '' for ko in df.KEGG.to_list()]\n",
    "df['Level2'] = [\",\".join(x[2] for x in annotations[ko]) if ko in annotations else '' for ko in df.KEGG.to_list()]\n",
    "df['Level3'] = [\",\".join(x[3] for x in annotations[ko]) if ko in annotations else '' for ko in df.KEGG.to_list()]\n",
    "df"
   ]
  },
  {
   "cell_type": "markdown",
   "metadata": {},
   "source": [
    "Let's show a few annotated rows: "
   ]
  },
  {
   "cell_type": "code",
   "execution_count": 71,
   "metadata": {},
   "outputs": [
    {
     "data": {
      "text/html": [
       "<div>\n",
       "<style scoped>\n",
       "    .dataframe tbody tr th:only-of-type {\n",
       "        vertical-align: middle;\n",
       "    }\n",
       "\n",
       "    .dataframe tbody tr th {\n",
       "        vertical-align: top;\n",
       "    }\n",
       "\n",
       "    .dataframe thead th {\n",
       "        text-align: right;\n",
       "    }\n",
       "</style>\n",
       "<table border=\"1\" class=\"dataframe\">\n",
       "  <thead>\n",
       "    <tr style=\"text-align: right;\">\n",
       "      <th></th>\n",
       "      <th>SampleA</th>\n",
       "      <th>SampleB</th>\n",
       "      <th>SampleC</th>\n",
       "      <th>SampleD</th>\n",
       "      <th>SampleE</th>\n",
       "      <th>NCBI_TaxID</th>\n",
       "      <th>KEGG</th>\n",
       "      <th>INTERPRO2GO</th>\n",
       "      <th>Level1</th>\n",
       "      <th>Level2</th>\n",
       "      <th>Level3</th>\n",
       "    </tr>\n",
       "    <tr>\n",
       "      <th>Subject_id</th>\n",
       "      <th></th>\n",
       "      <th></th>\n",
       "      <th></th>\n",
       "      <th></th>\n",
       "      <th></th>\n",
       "      <th></th>\n",
       "      <th></th>\n",
       "      <th></th>\n",
       "      <th></th>\n",
       "      <th></th>\n",
       "      <th></th>\n",
       "    </tr>\n",
       "  </thead>\n",
       "  <tbody>\n",
       "    <tr>\n",
       "      <th>MKWE01000003_1_73__GB_GCA_001899585_1</th>\n",
       "      <td>0</td>\n",
       "      <td>2</td>\n",
       "      <td>0</td>\n",
       "      <td>0</td>\n",
       "      <td>2</td>\n",
       "      <td>1895826</td>\n",
       "      <td>K04088</td>\n",
       "      <td></td>\n",
       "      <td>09181 Protein families: metabolism</td>\n",
       "      <td>01002 Peptidases and inhibitors [BR:ko01002]</td>\n",
       "      <td>modulator of FtsH protease HflK</td>\n",
       "    </tr>\n",
       "    <tr>\n",
       "      <th>NZ_CP027579_1_4510__RS_GCF_003018335_1</th>\n",
       "      <td>0</td>\n",
       "      <td>0</td>\n",
       "      <td>0</td>\n",
       "      <td>0</td>\n",
       "      <td>0</td>\n",
       "      <td>562</td>\n",
       "      <td>K01951</td>\n",
       "      <td>IPR022955</td>\n",
       "      <td>09181 Protein families: metabolism</td>\n",
       "      <td>01002 Peptidases and inhibitors [BR:ko01002]</td>\n",
       "      <td>GMP synthase (glutamine-hydrolysing) [EC:6.3.5.2]</td>\n",
       "    </tr>\n",
       "    <tr>\n",
       "      <th>VBIU01000006_1_34__GB_GCA_005880945_1</th>\n",
       "      <td>1</td>\n",
       "      <td>0</td>\n",
       "      <td>0</td>\n",
       "      <td>0</td>\n",
       "      <td>5</td>\n",
       "      <td>2026724</td>\n",
       "      <td>K02033</td>\n",
       "      <td></td>\n",
       "      <td>09183 Protein families: signaling and cellular...</td>\n",
       "      <td>02000 Transporters [BR:ko02000]</td>\n",
       "      <td>peptide/nickel transport system permease protein</td>\n",
       "    </tr>\n",
       "  </tbody>\n",
       "</table>\n",
       "</div>"
      ],
      "text/plain": [
       "                                        SampleA  SampleB  SampleC  SampleD  \\\n",
       "Subject_id                                                                   \n",
       "MKWE01000003_1_73__GB_GCA_001899585_1         0        2        0        0   \n",
       "NZ_CP027579_1_4510__RS_GCF_003018335_1        0        0        0        0   \n",
       "VBIU01000006_1_34__GB_GCA_005880945_1         1        0        0        0   \n",
       "\n",
       "                                        SampleE  NCBI_TaxID    KEGG  \\\n",
       "Subject_id                                                            \n",
       "MKWE01000003_1_73__GB_GCA_001899585_1         2     1895826  K04088   \n",
       "NZ_CP027579_1_4510__RS_GCF_003018335_1        0         562  K01951   \n",
       "VBIU01000006_1_34__GB_GCA_005880945_1         5     2026724  K02033   \n",
       "\n",
       "                                       INTERPRO2GO  \\\n",
       "Subject_id                                           \n",
       "MKWE01000003_1_73__GB_GCA_001899585_1                \n",
       "NZ_CP027579_1_4510__RS_GCF_003018335_1   IPR022955   \n",
       "VBIU01000006_1_34__GB_GCA_005880945_1                \n",
       "\n",
       "                                                                                   Level1  \\\n",
       "Subject_id                                                                                  \n",
       "MKWE01000003_1_73__GB_GCA_001899585_1                  09181 Protein families: metabolism   \n",
       "NZ_CP027579_1_4510__RS_GCF_003018335_1                 09181 Protein families: metabolism   \n",
       "VBIU01000006_1_34__GB_GCA_005880945_1   09183 Protein families: signaling and cellular...   \n",
       "\n",
       "                                                                              Level2  \\\n",
       "Subject_id                                                                             \n",
       "MKWE01000003_1_73__GB_GCA_001899585_1   01002 Peptidases and inhibitors [BR:ko01002]   \n",
       "NZ_CP027579_1_4510__RS_GCF_003018335_1  01002 Peptidases and inhibitors [BR:ko01002]   \n",
       "VBIU01000006_1_34__GB_GCA_005880945_1                02000 Transporters [BR:ko02000]   \n",
       "\n",
       "                                                                                   Level3  \n",
       "Subject_id                                                                                 \n",
       "MKWE01000003_1_73__GB_GCA_001899585_1                     modulator of FtsH protease HflK  \n",
       "NZ_CP027579_1_4510__RS_GCF_003018335_1  GMP synthase (glutamine-hydrolysing) [EC:6.3.5.2]  \n",
       "VBIU01000006_1_34__GB_GCA_005880945_1    peptide/nickel transport system permease protein  "
      ]
     },
     "execution_count": 71,
     "metadata": {},
     "output_type": "execute_result"
    }
   ],
   "source": [
    "df[df['Level1'] != '']"
   ]
  },
  {
   "cell_type": "code",
   "execution_count": 72,
   "metadata": {},
   "outputs": [],
   "source": [
    "df.index.name = 'ContigID'\n",
    "df.to_csv(snakemake.output.brite_ann, sep='\\t')"
   ]
  },
  {
   "cell_type": "markdown",
   "metadata": {},
   "source": [
    "### Adding KEGG metabolism"
   ]
  },
  {
   "cell_type": "code",
   "execution_count": 73,
   "metadata": {},
   "outputs": [],
   "source": [
    "annotations = get_brite(df.KEGG.to_list(), include = '09100 Metabolism') "
   ]
  },
  {
   "cell_type": "code",
   "execution_count": 74,
   "metadata": {},
   "outputs": [
    {
     "data": {
      "text/html": [
       "<div>\n",
       "<style scoped>\n",
       "    .dataframe tbody tr th:only-of-type {\n",
       "        vertical-align: middle;\n",
       "    }\n",
       "\n",
       "    .dataframe tbody tr th {\n",
       "        vertical-align: top;\n",
       "    }\n",
       "\n",
       "    .dataframe thead th {\n",
       "        text-align: right;\n",
       "    }\n",
       "</style>\n",
       "<table border=\"1\" class=\"dataframe\">\n",
       "  <thead>\n",
       "    <tr style=\"text-align: right;\">\n",
       "      <th></th>\n",
       "      <th>SampleA</th>\n",
       "      <th>SampleB</th>\n",
       "      <th>SampleC</th>\n",
       "      <th>SampleD</th>\n",
       "      <th>SampleE</th>\n",
       "      <th>NCBI_TaxID</th>\n",
       "      <th>KEGG</th>\n",
       "      <th>INTERPRO2GO</th>\n",
       "      <th>Level1</th>\n",
       "      <th>Level2</th>\n",
       "      <th>Level3</th>\n",
       "    </tr>\n",
       "    <tr>\n",
       "      <th>ContigID</th>\n",
       "      <th></th>\n",
       "      <th></th>\n",
       "      <th></th>\n",
       "      <th></th>\n",
       "      <th></th>\n",
       "      <th></th>\n",
       "      <th></th>\n",
       "      <th></th>\n",
       "      <th></th>\n",
       "      <th></th>\n",
       "      <th></th>\n",
       "    </tr>\n",
       "  </thead>\n",
       "  <tbody>\n",
       "    <tr>\n",
       "      <th>MKWE01000003_1_73__GB_GCA_001899585_1</th>\n",
       "      <td>0</td>\n",
       "      <td>2</td>\n",
       "      <td>0</td>\n",
       "      <td>0</td>\n",
       "      <td>2</td>\n",
       "      <td>1895826</td>\n",
       "      <td>K04088</td>\n",
       "      <td></td>\n",
       "      <td></td>\n",
       "      <td></td>\n",
       "      <td></td>\n",
       "    </tr>\n",
       "    <tr>\n",
       "      <th>NZZG01000135_1_4__GB_GCA_002698575_1</th>\n",
       "      <td>3</td>\n",
       "      <td>6</td>\n",
       "      <td>0</td>\n",
       "      <td>0</td>\n",
       "      <td>0</td>\n",
       "      <td>51662</td>\n",
       "      <td>K13955</td>\n",
       "      <td></td>\n",
       "      <td></td>\n",
       "      <td></td>\n",
       "      <td></td>\n",
       "    </tr>\n",
       "    <tr>\n",
       "      <th>NZ_CP027579_1_4510__RS_GCF_003018335_1</th>\n",
       "      <td>0</td>\n",
       "      <td>0</td>\n",
       "      <td>0</td>\n",
       "      <td>0</td>\n",
       "      <td>0</td>\n",
       "      <td>562</td>\n",
       "      <td>K01951</td>\n",
       "      <td>IPR022955</td>\n",
       "      <td>09111 Xenobiotics biodegradation and metabolism</td>\n",
       "      <td>00983 Drug metabolism - other enzymes [PATH:ko...</td>\n",
       "      <td>GMP synthase (glutamine-hydrolysing) [EC:6.3.5.2]</td>\n",
       "    </tr>\n",
       "    <tr>\n",
       "      <th>NZ_LT934425_1_2685__RS_GCF_900232105_1</th>\n",
       "      <td>0</td>\n",
       "      <td>0</td>\n",
       "      <td>2</td>\n",
       "      <td>1</td>\n",
       "      <td>0</td>\n",
       "      <td>174633</td>\n",
       "      <td>K20934</td>\n",
       "      <td></td>\n",
       "      <td>09102 Energy metabolism</td>\n",
       "      <td>00910 Nitrogen metabolism [PATH:ko00910]</td>\n",
       "      <td>hydrazine synthase subunit [EC:1.7.2.7]</td>\n",
       "    </tr>\n",
       "    <tr>\n",
       "      <th>NZ_SDKM01000083_1_4__RS_GCF_004519545_1</th>\n",
       "      <td>0</td>\n",
       "      <td>0</td>\n",
       "      <td>0</td>\n",
       "      <td>9</td>\n",
       "      <td>0</td>\n",
       "      <td>2497878</td>\n",
       "      <td></td>\n",
       "      <td></td>\n",
       "      <td></td>\n",
       "      <td></td>\n",
       "      <td></td>\n",
       "    </tr>\n",
       "    <tr>\n",
       "      <th>VBIU01000006_1_34__GB_GCA_005880945_1</th>\n",
       "      <td>1</td>\n",
       "      <td>0</td>\n",
       "      <td>0</td>\n",
       "      <td>0</td>\n",
       "      <td>5</td>\n",
       "      <td>2026724</td>\n",
       "      <td>K02033</td>\n",
       "      <td></td>\n",
       "      <td></td>\n",
       "      <td></td>\n",
       "      <td></td>\n",
       "    </tr>\n",
       "  </tbody>\n",
       "</table>\n",
       "</div>"
      ],
      "text/plain": [
       "                                         SampleA  SampleB  SampleC  SampleD  \\\n",
       "ContigID                                                                      \n",
       "MKWE01000003_1_73__GB_GCA_001899585_1          0        2        0        0   \n",
       "NZZG01000135_1_4__GB_GCA_002698575_1           3        6        0        0   \n",
       "NZ_CP027579_1_4510__RS_GCF_003018335_1         0        0        0        0   \n",
       "NZ_LT934425_1_2685__RS_GCF_900232105_1         0        0        2        1   \n",
       "NZ_SDKM01000083_1_4__RS_GCF_004519545_1        0        0        0        9   \n",
       "VBIU01000006_1_34__GB_GCA_005880945_1          1        0        0        0   \n",
       "\n",
       "                                         SampleE  NCBI_TaxID    KEGG  \\\n",
       "ContigID                                                               \n",
       "MKWE01000003_1_73__GB_GCA_001899585_1          2     1895826  K04088   \n",
       "NZZG01000135_1_4__GB_GCA_002698575_1           0       51662  K13955   \n",
       "NZ_CP027579_1_4510__RS_GCF_003018335_1         0         562  K01951   \n",
       "NZ_LT934425_1_2685__RS_GCF_900232105_1         0      174633  K20934   \n",
       "NZ_SDKM01000083_1_4__RS_GCF_004519545_1        0     2497878           \n",
       "VBIU01000006_1_34__GB_GCA_005880945_1          5     2026724  K02033   \n",
       "\n",
       "                                        INTERPRO2GO  \\\n",
       "ContigID                                              \n",
       "MKWE01000003_1_73__GB_GCA_001899585_1                 \n",
       "NZZG01000135_1_4__GB_GCA_002698575_1                  \n",
       "NZ_CP027579_1_4510__RS_GCF_003018335_1    IPR022955   \n",
       "NZ_LT934425_1_2685__RS_GCF_900232105_1                \n",
       "NZ_SDKM01000083_1_4__RS_GCF_004519545_1               \n",
       "VBIU01000006_1_34__GB_GCA_005880945_1                 \n",
       "\n",
       "                                                                                  Level1  \\\n",
       "ContigID                                                                                   \n",
       "MKWE01000003_1_73__GB_GCA_001899585_1                                                      \n",
       "NZZG01000135_1_4__GB_GCA_002698575_1                                                       \n",
       "NZ_CP027579_1_4510__RS_GCF_003018335_1   09111 Xenobiotics biodegradation and metabolism   \n",
       "NZ_LT934425_1_2685__RS_GCF_900232105_1                           09102 Energy metabolism   \n",
       "NZ_SDKM01000083_1_4__RS_GCF_004519545_1                                                    \n",
       "VBIU01000006_1_34__GB_GCA_005880945_1                                                      \n",
       "\n",
       "                                                                                    Level2  \\\n",
       "ContigID                                                                                     \n",
       "MKWE01000003_1_73__GB_GCA_001899585_1                                                        \n",
       "NZZG01000135_1_4__GB_GCA_002698575_1                                                         \n",
       "NZ_CP027579_1_4510__RS_GCF_003018335_1   00983 Drug metabolism - other enzymes [PATH:ko...   \n",
       "NZ_LT934425_1_2685__RS_GCF_900232105_1            00910 Nitrogen metabolism [PATH:ko00910]   \n",
       "NZ_SDKM01000083_1_4__RS_GCF_004519545_1                                                      \n",
       "VBIU01000006_1_34__GB_GCA_005880945_1                                                        \n",
       "\n",
       "                                                                                    Level3  \n",
       "ContigID                                                                                    \n",
       "MKWE01000003_1_73__GB_GCA_001899585_1                                                       \n",
       "NZZG01000135_1_4__GB_GCA_002698575_1                                                        \n",
       "NZ_CP027579_1_4510__RS_GCF_003018335_1   GMP synthase (glutamine-hydrolysing) [EC:6.3.5.2]  \n",
       "NZ_LT934425_1_2685__RS_GCF_900232105_1             hydrazine synthase subunit [EC:1.7.2.7]  \n",
       "NZ_SDKM01000083_1_4__RS_GCF_004519545_1                                                     \n",
       "VBIU01000006_1_34__GB_GCA_005880945_1                                                       "
      ]
     },
     "execution_count": 74,
     "metadata": {},
     "output_type": "execute_result"
    }
   ],
   "source": [
    "df['Level1'] = [\",\".join(x[1] for x in annotations[ko]) if ko in annotations else '' for ko in df.KEGG.to_list()]\n",
    "df['Level2'] = [\",\".join(x[2] for x in annotations[ko]) if ko in annotations else '' for ko in df.KEGG.to_list()]\n",
    "df['Level3'] = [\",\".join(x[3] for x in annotations[ko]) if ko in annotations else '' for ko in df.KEGG.to_list()]\n",
    "df"
   ]
  },
  {
   "cell_type": "markdown",
   "metadata": {},
   "source": [
    "Let's show a few annotated rows: "
   ]
  },
  {
   "cell_type": "code",
   "execution_count": 75,
   "metadata": {},
   "outputs": [
    {
     "data": {
      "text/html": [
       "<div>\n",
       "<style scoped>\n",
       "    .dataframe tbody tr th:only-of-type {\n",
       "        vertical-align: middle;\n",
       "    }\n",
       "\n",
       "    .dataframe tbody tr th {\n",
       "        vertical-align: top;\n",
       "    }\n",
       "\n",
       "    .dataframe thead th {\n",
       "        text-align: right;\n",
       "    }\n",
       "</style>\n",
       "<table border=\"1\" class=\"dataframe\">\n",
       "  <thead>\n",
       "    <tr style=\"text-align: right;\">\n",
       "      <th></th>\n",
       "      <th>SampleA</th>\n",
       "      <th>SampleB</th>\n",
       "      <th>SampleC</th>\n",
       "      <th>SampleD</th>\n",
       "      <th>SampleE</th>\n",
       "      <th>NCBI_TaxID</th>\n",
       "      <th>KEGG</th>\n",
       "      <th>INTERPRO2GO</th>\n",
       "      <th>Level1</th>\n",
       "      <th>Level2</th>\n",
       "      <th>Level3</th>\n",
       "    </tr>\n",
       "    <tr>\n",
       "      <th>ContigID</th>\n",
       "      <th></th>\n",
       "      <th></th>\n",
       "      <th></th>\n",
       "      <th></th>\n",
       "      <th></th>\n",
       "      <th></th>\n",
       "      <th></th>\n",
       "      <th></th>\n",
       "      <th></th>\n",
       "      <th></th>\n",
       "      <th></th>\n",
       "    </tr>\n",
       "  </thead>\n",
       "  <tbody>\n",
       "    <tr>\n",
       "      <th>NZ_CP027579_1_4510__RS_GCF_003018335_1</th>\n",
       "      <td>0</td>\n",
       "      <td>0</td>\n",
       "      <td>0</td>\n",
       "      <td>0</td>\n",
       "      <td>0</td>\n",
       "      <td>562</td>\n",
       "      <td>K01951</td>\n",
       "      <td>IPR022955</td>\n",
       "      <td>09111 Xenobiotics biodegradation and metabolism</td>\n",
       "      <td>00983 Drug metabolism - other enzymes [PATH:ko...</td>\n",
       "      <td>GMP synthase (glutamine-hydrolysing) [EC:6.3.5.2]</td>\n",
       "    </tr>\n",
       "    <tr>\n",
       "      <th>NZ_LT934425_1_2685__RS_GCF_900232105_1</th>\n",
       "      <td>0</td>\n",
       "      <td>0</td>\n",
       "      <td>2</td>\n",
       "      <td>1</td>\n",
       "      <td>0</td>\n",
       "      <td>174633</td>\n",
       "      <td>K20934</td>\n",
       "      <td></td>\n",
       "      <td>09102 Energy metabolism</td>\n",
       "      <td>00910 Nitrogen metabolism [PATH:ko00910]</td>\n",
       "      <td>hydrazine synthase subunit [EC:1.7.2.7]</td>\n",
       "    </tr>\n",
       "  </tbody>\n",
       "</table>\n",
       "</div>"
      ],
      "text/plain": [
       "                                        SampleA  SampleB  SampleC  SampleD  \\\n",
       "ContigID                                                                     \n",
       "NZ_CP027579_1_4510__RS_GCF_003018335_1        0        0        0        0   \n",
       "NZ_LT934425_1_2685__RS_GCF_900232105_1        0        0        2        1   \n",
       "\n",
       "                                        SampleE  NCBI_TaxID    KEGG  \\\n",
       "ContigID                                                              \n",
       "NZ_CP027579_1_4510__RS_GCF_003018335_1        0         562  K01951   \n",
       "NZ_LT934425_1_2685__RS_GCF_900232105_1        0      174633  K20934   \n",
       "\n",
       "                                       INTERPRO2GO  \\\n",
       "ContigID                                             \n",
       "NZ_CP027579_1_4510__RS_GCF_003018335_1   IPR022955   \n",
       "NZ_LT934425_1_2685__RS_GCF_900232105_1               \n",
       "\n",
       "                                                                                 Level1  \\\n",
       "ContigID                                                                                  \n",
       "NZ_CP027579_1_4510__RS_GCF_003018335_1  09111 Xenobiotics biodegradation and metabolism   \n",
       "NZ_LT934425_1_2685__RS_GCF_900232105_1                          09102 Energy metabolism   \n",
       "\n",
       "                                                                                   Level2  \\\n",
       "ContigID                                                                                    \n",
       "NZ_CP027579_1_4510__RS_GCF_003018335_1  00983 Drug metabolism - other enzymes [PATH:ko...   \n",
       "NZ_LT934425_1_2685__RS_GCF_900232105_1           00910 Nitrogen metabolism [PATH:ko00910]   \n",
       "\n",
       "                                                                                   Level3  \n",
       "ContigID                                                                                   \n",
       "NZ_CP027579_1_4510__RS_GCF_003018335_1  GMP synthase (glutamine-hydrolysing) [EC:6.3.5.2]  \n",
       "NZ_LT934425_1_2685__RS_GCF_900232105_1            hydrazine synthase subunit [EC:1.7.2.7]  "
      ]
     },
     "execution_count": 75,
     "metadata": {},
     "output_type": "execute_result"
    }
   ],
   "source": [
    "df[df['Level1'] != '']"
   ]
  },
  {
   "cell_type": "code",
   "execution_count": 76,
   "metadata": {},
   "outputs": [],
   "source": [
    "df.to_csv(snakemake.output.metabolism, sep='\\t')"
   ]
  }
 ],
 "metadata": {
  "kernelspec": {
   "display_name": "Python 3",
   "language": "python",
   "name": "python3"
  },
  "language_info": {
   "codemirror_mode": {
    "name": "ipython",
    "version": 3
   },
   "file_extension": ".py",
   "mimetype": "text/x-python",
   "name": "python",
   "nbconvert_exporter": "python",
   "pygments_lexer": "ipython3",
   "version": "3.9.15"
  }
 },
 "nbformat": 4,
 "nbformat_minor": 2
}
